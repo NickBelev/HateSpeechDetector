{
  "cells": [
    {
      "cell_type": "markdown",
      "metadata": {
        "id": "bd1PfkD_xgNO"
      },
      "source": [
        "# Anti-Arab Hate Speech Detection System\n",
        "\n",
        "## NLP Final Project — Spring 2025\n",
        "\n",
        "### Authors\n",
        "- Nicholas\n",
        "- Clara\n",
        "- Naif\n",
        "- Alzmami\n",
        "\n",
        "---"
      ]
    },
    {
      "cell_type": "markdown",
      "metadata": {
        "id": "3QJrftseyTAu"
      },
      "source": [
        "## Libraries"
      ]
    },
    {
      "cell_type": "code",
      "execution_count": null,
      "metadata": {
        "id": "N61tVed9Lk-J"
      },
      "outputs": [],
      "source": [
        "# Data handling and parsing\n",
        "import pandas as pd\n",
        "from google.colab import files\n",
        "import re\n",
        "\n",
        "# NLP and text processing\n",
        "import nltk\n",
        "from nltk.corpus import stopwords\n",
        "import spacy\n",
        "\n",
        "# Machine Learning toolkits and BERT pretrained\n",
        "from transformers import AutoTokenizer, AutoModelForSequenceClassification\n",
        "import torch\n",
        "\n",
        "# Analyzing and Visualizing Performance of Models\n",
        "from sklearn.model_selection import train_test_split, cross_validate, cross_val_predict, cross_val_score\n",
        "from sklearn.metrics import accuracy_score, precision_score, recall_score, f1_score, classification_report, confusion_matrix, ConfusionMatrixDisplay, RocCurveDisplay\n",
        "from sklearn.feature_extraction.text import TfidfVectorizer # Lightweight embedding model\n",
        "from sklearn.linear_model import LogisticRegression # Effective baseline classifier\n",
        "import matplotlib.pyplot as plt"
      ]
    },
    {
      "cell_type": "markdown",
      "metadata": {
        "id": "FIvIb0zty3Gu"
      },
      "source": [
        "## Preprocessing Tweet Data"
      ]
    },
    {
      "cell_type": "code",
      "execution_count": null,
      "metadata": {
        "id": "Uu2hMjg1QN7p",
        "colab": {
          "base_uri": "https://localhost:8080/"
        },
        "outputId": "37ec37ac-0ee7-4bb6-ae50-af569b852ebb"
      },
      "outputs": [
        {
          "output_type": "stream",
          "name": "stderr",
          "text": [
            "[nltk_data] Downloading package stopwords to /root/nltk_data...\n",
            "[nltk_data]   Unzipping corpora/stopwords.zip.\n"
          ]
        }
      ],
      "source": [
        "# Stopwords in memory\n",
        "nltk.download('stopwords')\n",
        "stop_words = set(stopwords.words('english'))"
      ]
    },
    {
      "cell_type": "markdown",
      "source": [
        "For convenience ensure the data file, titled \"data.txt\" is in an accessible directory to be easily uploaded to the Colab disk"
      ],
      "metadata": {
        "id": "bdsGwmkcrXco"
      }
    },
    {
      "cell_type": "code",
      "execution_count": null,
      "metadata": {
        "id": "giMR775CEEkY",
        "colab": {
          "base_uri": "https://localhost:8080/",
          "height": 73
        },
        "outputId": "321e6d11-afd5-464b-d2e1-7ae66da4142e"
      },
      "outputs": [
        {
          "output_type": "display_data",
          "data": {
            "text/plain": [
              "<IPython.core.display.HTML object>"
            ],
            "text/html": [
              "\n",
              "     <input type=\"file\" id=\"files-4471f937-e48c-419e-9870-792a463ce748\" name=\"files[]\" multiple disabled\n",
              "        style=\"border:none\" />\n",
              "     <output id=\"result-4471f937-e48c-419e-9870-792a463ce748\">\n",
              "      Upload widget is only available when the cell has been executed in the\n",
              "      current browser session. Please rerun this cell to enable.\n",
              "      </output>\n",
              "      <script>// Copyright 2017 Google LLC\n",
              "//\n",
              "// Licensed under the Apache License, Version 2.0 (the \"License\");\n",
              "// you may not use this file except in compliance with the License.\n",
              "// You may obtain a copy of the License at\n",
              "//\n",
              "//      http://www.apache.org/licenses/LICENSE-2.0\n",
              "//\n",
              "// Unless required by applicable law or agreed to in writing, software\n",
              "// distributed under the License is distributed on an \"AS IS\" BASIS,\n",
              "// WITHOUT WARRANTIES OR CONDITIONS OF ANY KIND, either express or implied.\n",
              "// See the License for the specific language governing permissions and\n",
              "// limitations under the License.\n",
              "\n",
              "/**\n",
              " * @fileoverview Helpers for google.colab Python module.\n",
              " */\n",
              "(function(scope) {\n",
              "function span(text, styleAttributes = {}) {\n",
              "  const element = document.createElement('span');\n",
              "  element.textContent = text;\n",
              "  for (const key of Object.keys(styleAttributes)) {\n",
              "    element.style[key] = styleAttributes[key];\n",
              "  }\n",
              "  return element;\n",
              "}\n",
              "\n",
              "// Max number of bytes which will be uploaded at a time.\n",
              "const MAX_PAYLOAD_SIZE = 100 * 1024;\n",
              "\n",
              "function _uploadFiles(inputId, outputId) {\n",
              "  const steps = uploadFilesStep(inputId, outputId);\n",
              "  const outputElement = document.getElementById(outputId);\n",
              "  // Cache steps on the outputElement to make it available for the next call\n",
              "  // to uploadFilesContinue from Python.\n",
              "  outputElement.steps = steps;\n",
              "\n",
              "  return _uploadFilesContinue(outputId);\n",
              "}\n",
              "\n",
              "// This is roughly an async generator (not supported in the browser yet),\n",
              "// where there are multiple asynchronous steps and the Python side is going\n",
              "// to poll for completion of each step.\n",
              "// This uses a Promise to block the python side on completion of each step,\n",
              "// then passes the result of the previous step as the input to the next step.\n",
              "function _uploadFilesContinue(outputId) {\n",
              "  const outputElement = document.getElementById(outputId);\n",
              "  const steps = outputElement.steps;\n",
              "\n",
              "  const next = steps.next(outputElement.lastPromiseValue);\n",
              "  return Promise.resolve(next.value.promise).then((value) => {\n",
              "    // Cache the last promise value to make it available to the next\n",
              "    // step of the generator.\n",
              "    outputElement.lastPromiseValue = value;\n",
              "    return next.value.response;\n",
              "  });\n",
              "}\n",
              "\n",
              "/**\n",
              " * Generator function which is called between each async step of the upload\n",
              " * process.\n",
              " * @param {string} inputId Element ID of the input file picker element.\n",
              " * @param {string} outputId Element ID of the output display.\n",
              " * @return {!Iterable<!Object>} Iterable of next steps.\n",
              " */\n",
              "function* uploadFilesStep(inputId, outputId) {\n",
              "  const inputElement = document.getElementById(inputId);\n",
              "  inputElement.disabled = false;\n",
              "\n",
              "  const outputElement = document.getElementById(outputId);\n",
              "  outputElement.innerHTML = '';\n",
              "\n",
              "  const pickedPromise = new Promise((resolve) => {\n",
              "    inputElement.addEventListener('change', (e) => {\n",
              "      resolve(e.target.files);\n",
              "    });\n",
              "  });\n",
              "\n",
              "  const cancel = document.createElement('button');\n",
              "  inputElement.parentElement.appendChild(cancel);\n",
              "  cancel.textContent = 'Cancel upload';\n",
              "  const cancelPromise = new Promise((resolve) => {\n",
              "    cancel.onclick = () => {\n",
              "      resolve(null);\n",
              "    };\n",
              "  });\n",
              "\n",
              "  // Wait for the user to pick the files.\n",
              "  const files = yield {\n",
              "    promise: Promise.race([pickedPromise, cancelPromise]),\n",
              "    response: {\n",
              "      action: 'starting',\n",
              "    }\n",
              "  };\n",
              "\n",
              "  cancel.remove();\n",
              "\n",
              "  // Disable the input element since further picks are not allowed.\n",
              "  inputElement.disabled = true;\n",
              "\n",
              "  if (!files) {\n",
              "    return {\n",
              "      response: {\n",
              "        action: 'complete',\n",
              "      }\n",
              "    };\n",
              "  }\n",
              "\n",
              "  for (const file of files) {\n",
              "    const li = document.createElement('li');\n",
              "    li.append(span(file.name, {fontWeight: 'bold'}));\n",
              "    li.append(span(\n",
              "        `(${file.type || 'n/a'}) - ${file.size} bytes, ` +\n",
              "        `last modified: ${\n",
              "            file.lastModifiedDate ? file.lastModifiedDate.toLocaleDateString() :\n",
              "                                    'n/a'} - `));\n",
              "    const percent = span('0% done');\n",
              "    li.appendChild(percent);\n",
              "\n",
              "    outputElement.appendChild(li);\n",
              "\n",
              "    const fileDataPromise = new Promise((resolve) => {\n",
              "      const reader = new FileReader();\n",
              "      reader.onload = (e) => {\n",
              "        resolve(e.target.result);\n",
              "      };\n",
              "      reader.readAsArrayBuffer(file);\n",
              "    });\n",
              "    // Wait for the data to be ready.\n",
              "    let fileData = yield {\n",
              "      promise: fileDataPromise,\n",
              "      response: {\n",
              "        action: 'continue',\n",
              "      }\n",
              "    };\n",
              "\n",
              "    // Use a chunked sending to avoid message size limits. See b/62115660.\n",
              "    let position = 0;\n",
              "    do {\n",
              "      const length = Math.min(fileData.byteLength - position, MAX_PAYLOAD_SIZE);\n",
              "      const chunk = new Uint8Array(fileData, position, length);\n",
              "      position += length;\n",
              "\n",
              "      const base64 = btoa(String.fromCharCode.apply(null, chunk));\n",
              "      yield {\n",
              "        response: {\n",
              "          action: 'append',\n",
              "          file: file.name,\n",
              "          data: base64,\n",
              "        },\n",
              "      };\n",
              "\n",
              "      let percentDone = fileData.byteLength === 0 ?\n",
              "          100 :\n",
              "          Math.round((position / fileData.byteLength) * 100);\n",
              "      percent.textContent = `${percentDone}% done`;\n",
              "\n",
              "    } while (position < fileData.byteLength);\n",
              "  }\n",
              "\n",
              "  // All done.\n",
              "  yield {\n",
              "    response: {\n",
              "      action: 'complete',\n",
              "    }\n",
              "  };\n",
              "}\n",
              "\n",
              "scope.google = scope.google || {};\n",
              "scope.google.colab = scope.google.colab || {};\n",
              "scope.google.colab._files = {\n",
              "  _uploadFiles,\n",
              "  _uploadFilesContinue,\n",
              "};\n",
              "})(self);\n",
              "</script> "
            ]
          },
          "metadata": {}
        },
        {
          "output_type": "stream",
          "name": "stdout",
          "text": [
            "Saving data.txt to data.txt\n"
          ]
        }
      ],
      "source": [
        "uploaded = files.upload()\n",
        "hate_speech_file = list(uploaded.keys())[0] # Provided data file of tweets was used for training\n",
        "\n",
        "# Expected number of fields, the data is of form: \"index, annotator count, # hate speech, # offensive, # neither, class, tweet text\"\n",
        "EXPECTED_FIELDS = 7"
      ]
    },
    {
      "cell_type": "code",
      "execution_count": null,
      "metadata": {
        "id": "I6Kf7boZL2Fd"
      },
      "outputs": [],
      "source": [
        "def safe_load_csv(filepath):\n",
        "    rows = []\n",
        "    with open(filepath, 'r', encoding='utf-8') as f:\n",
        "        for line in f:\n",
        "            parts = line.strip().split(',')\n",
        "            if len(parts) >= EXPECTED_FIELDS: # Skip lines that are too short (permit lines that are too long)\n",
        "                try:\n",
        "                    index = int(parts[0])\n",
        "                    hate = int(parts[2])\n",
        "                    offensive = int(parts[3])\n",
        "                    neither = int(parts[4])\n",
        "                    text = \",\".join(parts[6:])  # tweet text may contain commas\n",
        "                    label = 1 if (hate + offensive) > neither else 0 # Calculate hate speech or not based on annotator consensus (majority)\n",
        "                    rows.append((index, label, text))\n",
        "                except ValueError:\n",
        "                    continue  # Skip lines with bad numeric conversion\n",
        "    return pd.DataFrame(rows, columns=[\"index\", \"label\", \"raw_text\"]) # New CSV format"
      ]
    },
    {
      "cell_type": "markdown",
      "source": [
        "We transform the original dataset into the format \"index\", \"label\", \"raw_text\", because the label is necessary for having a \"ground truth\".  The label is derived from determining consensus across all annotators that partook in labelling the tweets dataset.  Effectively, majority decision / vote dictates whether a post is hate speech or not."
      ],
      "metadata": {
        "id": "zke-tN0lY1PP"
      }
    },
    {
      "cell_type": "code",
      "execution_count": null,
      "metadata": {
        "id": "S7UzO8aTMKdd"
      },
      "outputs": [],
      "source": [
        "def clean_text(text):\n",
        "    text = str(text).lower()\n",
        "    text = re.sub(r\"http\\S+|www\\S+|https\\S+\", '', text)            # Remove URLs\n",
        "    text = re.sub(r'@\\w', '', text)                               # Remove mentions like @user\n",
        "    text = re.sub(r'\\brt\\b', '', text)                             # Remove \"RT\"\n",
        "    text = re.sub(r\"[^a-zA-Z\\s]\", '', text)                        # Remove all punctuation and non-letter characters, notably \"!!!!!...\"'s\n",
        "    text = re.sub(r'\\s+', ' ', text).strip()                       # Normalize whitespace\n",
        "    text = ' '.join(word for word in text.split() if word not in stop_words)  # Remove stopwords\n",
        "    return text"
      ]
    },
    {
      "cell_type": "markdown",
      "source": [
        "Sensitive information such as account names, links, mentions are removed.  Also removed are nuissance characters (\"!!!! RT\"), punctuation, and excess spaces to homogenize the text so now it is pure lowercase words (where stopwords are also excluded).  This \"purifies\" the sentiment of the remaining 'soup' of words, making it usable as train and test data."
      ],
      "metadata": {
        "id": "T3RQcrBRZNGz"
      }
    },
    {
      "cell_type": "code",
      "execution_count": null,
      "metadata": {
        "id": "C-D4Y3ZaMN5e",
        "colab": {
          "base_uri": "https://localhost:8080/",
          "height": 676
        },
        "outputId": "432c7f69-1f7b-4b17-bcf5-6b84c52e4c07"
      },
      "outputs": [
        {
          "output_type": "execute_result",
          "data": {
            "text/plain": [
              "    index  label                                       cleaned_text\n",
              "0       0      0  ayasolovely woman shouldnt complain cleaning h...\n",
              "1       1      1  leew boy dats coldtyga dwn bad cuffin dat hoe ...\n",
              "2       2      1  rkindofbrand dawg sbabylife ever fuck bitch st...\n",
              "3       3      1                ganderson ivabased look like tranny\n",
              "4       4      1  henikaroberts shit hear might true might faker...\n",
              "5       5      1  madisonx shit blows meclaim faithful somebody ...\n",
              "6       6      1  brighterdays sit hate another bitch got much s...\n",
              "7       7      1  elfiequeenbri cause im tired big bitches comin...\n",
              "8       8      1              amp might get ya bitch back amp thats\n",
              "9       9      1           hythmixx hobbies include fighting mariam\n",
              "10     10      1  keeks bitch curves everyone lol walked convers...\n",
              "11     11      1                         murda gang bitch gang land\n",
              "12     12      1                        hoes smoke losers yea go ig\n",
              "13     13      1                             bad bitches thing like\n",
              "14     14      1                                          bitch get\n",
              "15     15      1                                   bitch nigga miss\n",
              "16     16      1                                 bitch plz whatever\n",
              "17     17      1                                         bitch love\n",
              "18     18      1                         bitches get cut everyday b\n",
              "19     19      1                         black bottle amp bad bitch"
            ],
            "text/html": [
              "\n",
              "  <div id=\"df-20f4af76-8399-442b-ab71-fed5121c9a25\" class=\"colab-df-container\">\n",
              "    <div>\n",
              "<style scoped>\n",
              "    .dataframe tbody tr th:only-of-type {\n",
              "        vertical-align: middle;\n",
              "    }\n",
              "\n",
              "    .dataframe tbody tr th {\n",
              "        vertical-align: top;\n",
              "    }\n",
              "\n",
              "    .dataframe thead th {\n",
              "        text-align: right;\n",
              "    }\n",
              "</style>\n",
              "<table border=\"1\" class=\"dataframe\">\n",
              "  <thead>\n",
              "    <tr style=\"text-align: right;\">\n",
              "      <th></th>\n",
              "      <th>index</th>\n",
              "      <th>label</th>\n",
              "      <th>cleaned_text</th>\n",
              "    </tr>\n",
              "  </thead>\n",
              "  <tbody>\n",
              "    <tr>\n",
              "      <th>0</th>\n",
              "      <td>0</td>\n",
              "      <td>0</td>\n",
              "      <td>ayasolovely woman shouldnt complain cleaning h...</td>\n",
              "    </tr>\n",
              "    <tr>\n",
              "      <th>1</th>\n",
              "      <td>1</td>\n",
              "      <td>1</td>\n",
              "      <td>leew boy dats coldtyga dwn bad cuffin dat hoe ...</td>\n",
              "    </tr>\n",
              "    <tr>\n",
              "      <th>2</th>\n",
              "      <td>2</td>\n",
              "      <td>1</td>\n",
              "      <td>rkindofbrand dawg sbabylife ever fuck bitch st...</td>\n",
              "    </tr>\n",
              "    <tr>\n",
              "      <th>3</th>\n",
              "      <td>3</td>\n",
              "      <td>1</td>\n",
              "      <td>ganderson ivabased look like tranny</td>\n",
              "    </tr>\n",
              "    <tr>\n",
              "      <th>4</th>\n",
              "      <td>4</td>\n",
              "      <td>1</td>\n",
              "      <td>henikaroberts shit hear might true might faker...</td>\n",
              "    </tr>\n",
              "    <tr>\n",
              "      <th>5</th>\n",
              "      <td>5</td>\n",
              "      <td>1</td>\n",
              "      <td>madisonx shit blows meclaim faithful somebody ...</td>\n",
              "    </tr>\n",
              "    <tr>\n",
              "      <th>6</th>\n",
              "      <td>6</td>\n",
              "      <td>1</td>\n",
              "      <td>brighterdays sit hate another bitch got much s...</td>\n",
              "    </tr>\n",
              "    <tr>\n",
              "      <th>7</th>\n",
              "      <td>7</td>\n",
              "      <td>1</td>\n",
              "      <td>elfiequeenbri cause im tired big bitches comin...</td>\n",
              "    </tr>\n",
              "    <tr>\n",
              "      <th>8</th>\n",
              "      <td>8</td>\n",
              "      <td>1</td>\n",
              "      <td>amp might get ya bitch back amp thats</td>\n",
              "    </tr>\n",
              "    <tr>\n",
              "      <th>9</th>\n",
              "      <td>9</td>\n",
              "      <td>1</td>\n",
              "      <td>hythmixx hobbies include fighting mariam</td>\n",
              "    </tr>\n",
              "    <tr>\n",
              "      <th>10</th>\n",
              "      <td>10</td>\n",
              "      <td>1</td>\n",
              "      <td>keeks bitch curves everyone lol walked convers...</td>\n",
              "    </tr>\n",
              "    <tr>\n",
              "      <th>11</th>\n",
              "      <td>11</td>\n",
              "      <td>1</td>\n",
              "      <td>murda gang bitch gang land</td>\n",
              "    </tr>\n",
              "    <tr>\n",
              "      <th>12</th>\n",
              "      <td>12</td>\n",
              "      <td>1</td>\n",
              "      <td>hoes smoke losers yea go ig</td>\n",
              "    </tr>\n",
              "    <tr>\n",
              "      <th>13</th>\n",
              "      <td>13</td>\n",
              "      <td>1</td>\n",
              "      <td>bad bitches thing like</td>\n",
              "    </tr>\n",
              "    <tr>\n",
              "      <th>14</th>\n",
              "      <td>14</td>\n",
              "      <td>1</td>\n",
              "      <td>bitch get</td>\n",
              "    </tr>\n",
              "    <tr>\n",
              "      <th>15</th>\n",
              "      <td>15</td>\n",
              "      <td>1</td>\n",
              "      <td>bitch nigga miss</td>\n",
              "    </tr>\n",
              "    <tr>\n",
              "      <th>16</th>\n",
              "      <td>16</td>\n",
              "      <td>1</td>\n",
              "      <td>bitch plz whatever</td>\n",
              "    </tr>\n",
              "    <tr>\n",
              "      <th>17</th>\n",
              "      <td>17</td>\n",
              "      <td>1</td>\n",
              "      <td>bitch love</td>\n",
              "    </tr>\n",
              "    <tr>\n",
              "      <th>18</th>\n",
              "      <td>18</td>\n",
              "      <td>1</td>\n",
              "      <td>bitches get cut everyday b</td>\n",
              "    </tr>\n",
              "    <tr>\n",
              "      <th>19</th>\n",
              "      <td>19</td>\n",
              "      <td>1</td>\n",
              "      <td>black bottle amp bad bitch</td>\n",
              "    </tr>\n",
              "  </tbody>\n",
              "</table>\n",
              "</div>\n",
              "    <div class=\"colab-df-buttons\">\n",
              "\n",
              "  <div class=\"colab-df-container\">\n",
              "    <button class=\"colab-df-convert\" onclick=\"convertToInteractive('df-20f4af76-8399-442b-ab71-fed5121c9a25')\"\n",
              "            title=\"Convert this dataframe to an interactive table.\"\n",
              "            style=\"display:none;\">\n",
              "\n",
              "  <svg xmlns=\"http://www.w3.org/2000/svg\" height=\"24px\" viewBox=\"0 -960 960 960\">\n",
              "    <path d=\"M120-120v-720h720v720H120Zm60-500h600v-160H180v160Zm220 220h160v-160H400v160Zm0 220h160v-160H400v160ZM180-400h160v-160H180v160Zm440 0h160v-160H620v160ZM180-180h160v-160H180v160Zm440 0h160v-160H620v160Z\"/>\n",
              "  </svg>\n",
              "    </button>\n",
              "\n",
              "  <style>\n",
              "    .colab-df-container {\n",
              "      display:flex;\n",
              "      gap: 12px;\n",
              "    }\n",
              "\n",
              "    .colab-df-convert {\n",
              "      background-color: #E8F0FE;\n",
              "      border: none;\n",
              "      border-radius: 50%;\n",
              "      cursor: pointer;\n",
              "      display: none;\n",
              "      fill: #1967D2;\n",
              "      height: 32px;\n",
              "      padding: 0 0 0 0;\n",
              "      width: 32px;\n",
              "    }\n",
              "\n",
              "    .colab-df-convert:hover {\n",
              "      background-color: #E2EBFA;\n",
              "      box-shadow: 0px 1px 2px rgba(60, 64, 67, 0.3), 0px 1px 3px 1px rgba(60, 64, 67, 0.15);\n",
              "      fill: #174EA6;\n",
              "    }\n",
              "\n",
              "    .colab-df-buttons div {\n",
              "      margin-bottom: 4px;\n",
              "    }\n",
              "\n",
              "    [theme=dark] .colab-df-convert {\n",
              "      background-color: #3B4455;\n",
              "      fill: #D2E3FC;\n",
              "    }\n",
              "\n",
              "    [theme=dark] .colab-df-convert:hover {\n",
              "      background-color: #434B5C;\n",
              "      box-shadow: 0px 1px 3px 1px rgba(0, 0, 0, 0.15);\n",
              "      filter: drop-shadow(0px 1px 2px rgba(0, 0, 0, 0.3));\n",
              "      fill: #FFFFFF;\n",
              "    }\n",
              "  </style>\n",
              "\n",
              "    <script>\n",
              "      const buttonEl =\n",
              "        document.querySelector('#df-20f4af76-8399-442b-ab71-fed5121c9a25 button.colab-df-convert');\n",
              "      buttonEl.style.display =\n",
              "        google.colab.kernel.accessAllowed ? 'block' : 'none';\n",
              "\n",
              "      async function convertToInteractive(key) {\n",
              "        const element = document.querySelector('#df-20f4af76-8399-442b-ab71-fed5121c9a25');\n",
              "        const dataTable =\n",
              "          await google.colab.kernel.invokeFunction('convertToInteractive',\n",
              "                                                    [key], {});\n",
              "        if (!dataTable) return;\n",
              "\n",
              "        const docLinkHtml = 'Like what you see? Visit the ' +\n",
              "          '<a target=\"_blank\" href=https://colab.research.google.com/notebooks/data_table.ipynb>data table notebook</a>'\n",
              "          + ' to learn more about interactive tables.';\n",
              "        element.innerHTML = '';\n",
              "        dataTable['output_type'] = 'display_data';\n",
              "        await google.colab.output.renderOutput(dataTable, element);\n",
              "        const docLink = document.createElement('div');\n",
              "        docLink.innerHTML = docLinkHtml;\n",
              "        element.appendChild(docLink);\n",
              "      }\n",
              "    </script>\n",
              "  </div>\n",
              "\n",
              "\n",
              "<div id=\"df-21d55ad6-7933-4f76-9068-8008fd60ac82\">\n",
              "  <button class=\"colab-df-quickchart\" onclick=\"quickchart('df-21d55ad6-7933-4f76-9068-8008fd60ac82')\"\n",
              "            title=\"Suggest charts\"\n",
              "            style=\"display:none;\">\n",
              "\n",
              "<svg xmlns=\"http://www.w3.org/2000/svg\" height=\"24px\"viewBox=\"0 0 24 24\"\n",
              "     width=\"24px\">\n",
              "    <g>\n",
              "        <path d=\"M19 3H5c-1.1 0-2 .9-2 2v14c0 1.1.9 2 2 2h14c1.1 0 2-.9 2-2V5c0-1.1-.9-2-2-2zM9 17H7v-7h2v7zm4 0h-2V7h2v10zm4 0h-2v-4h2v4z\"/>\n",
              "    </g>\n",
              "</svg>\n",
              "  </button>\n",
              "\n",
              "<style>\n",
              "  .colab-df-quickchart {\n",
              "      --bg-color: #E8F0FE;\n",
              "      --fill-color: #1967D2;\n",
              "      --hover-bg-color: #E2EBFA;\n",
              "      --hover-fill-color: #174EA6;\n",
              "      --disabled-fill-color: #AAA;\n",
              "      --disabled-bg-color: #DDD;\n",
              "  }\n",
              "\n",
              "  [theme=dark] .colab-df-quickchart {\n",
              "      --bg-color: #3B4455;\n",
              "      --fill-color: #D2E3FC;\n",
              "      --hover-bg-color: #434B5C;\n",
              "      --hover-fill-color: #FFFFFF;\n",
              "      --disabled-bg-color: #3B4455;\n",
              "      --disabled-fill-color: #666;\n",
              "  }\n",
              "\n",
              "  .colab-df-quickchart {\n",
              "    background-color: var(--bg-color);\n",
              "    border: none;\n",
              "    border-radius: 50%;\n",
              "    cursor: pointer;\n",
              "    display: none;\n",
              "    fill: var(--fill-color);\n",
              "    height: 32px;\n",
              "    padding: 0;\n",
              "    width: 32px;\n",
              "  }\n",
              "\n",
              "  .colab-df-quickchart:hover {\n",
              "    background-color: var(--hover-bg-color);\n",
              "    box-shadow: 0 1px 2px rgba(60, 64, 67, 0.3), 0 1px 3px 1px rgba(60, 64, 67, 0.15);\n",
              "    fill: var(--button-hover-fill-color);\n",
              "  }\n",
              "\n",
              "  .colab-df-quickchart-complete:disabled,\n",
              "  .colab-df-quickchart-complete:disabled:hover {\n",
              "    background-color: var(--disabled-bg-color);\n",
              "    fill: var(--disabled-fill-color);\n",
              "    box-shadow: none;\n",
              "  }\n",
              "\n",
              "  .colab-df-spinner {\n",
              "    border: 2px solid var(--fill-color);\n",
              "    border-color: transparent;\n",
              "    border-bottom-color: var(--fill-color);\n",
              "    animation:\n",
              "      spin 1s steps(1) infinite;\n",
              "  }\n",
              "\n",
              "  @keyframes spin {\n",
              "    0% {\n",
              "      border-color: transparent;\n",
              "      border-bottom-color: var(--fill-color);\n",
              "      border-left-color: var(--fill-color);\n",
              "    }\n",
              "    20% {\n",
              "      border-color: transparent;\n",
              "      border-left-color: var(--fill-color);\n",
              "      border-top-color: var(--fill-color);\n",
              "    }\n",
              "    30% {\n",
              "      border-color: transparent;\n",
              "      border-left-color: var(--fill-color);\n",
              "      border-top-color: var(--fill-color);\n",
              "      border-right-color: var(--fill-color);\n",
              "    }\n",
              "    40% {\n",
              "      border-color: transparent;\n",
              "      border-right-color: var(--fill-color);\n",
              "      border-top-color: var(--fill-color);\n",
              "    }\n",
              "    60% {\n",
              "      border-color: transparent;\n",
              "      border-right-color: var(--fill-color);\n",
              "    }\n",
              "    80% {\n",
              "      border-color: transparent;\n",
              "      border-right-color: var(--fill-color);\n",
              "      border-bottom-color: var(--fill-color);\n",
              "    }\n",
              "    90% {\n",
              "      border-color: transparent;\n",
              "      border-bottom-color: var(--fill-color);\n",
              "    }\n",
              "  }\n",
              "</style>\n",
              "\n",
              "  <script>\n",
              "    async function quickchart(key) {\n",
              "      const quickchartButtonEl =\n",
              "        document.querySelector('#' + key + ' button');\n",
              "      quickchartButtonEl.disabled = true;  // To prevent multiple clicks.\n",
              "      quickchartButtonEl.classList.add('colab-df-spinner');\n",
              "      try {\n",
              "        const charts = await google.colab.kernel.invokeFunction(\n",
              "            'suggestCharts', [key], {});\n",
              "      } catch (error) {\n",
              "        console.error('Error during call to suggestCharts:', error);\n",
              "      }\n",
              "      quickchartButtonEl.classList.remove('colab-df-spinner');\n",
              "      quickchartButtonEl.classList.add('colab-df-quickchart-complete');\n",
              "    }\n",
              "    (() => {\n",
              "      let quickchartButtonEl =\n",
              "        document.querySelector('#df-21d55ad6-7933-4f76-9068-8008fd60ac82 button');\n",
              "      quickchartButtonEl.style.display =\n",
              "        google.colab.kernel.accessAllowed ? 'block' : 'none';\n",
              "    })();\n",
              "  </script>\n",
              "</div>\n",
              "\n",
              "    </div>\n",
              "  </div>\n"
            ],
            "application/vnd.google.colaboratory.intrinsic+json": {
              "type": "dataframe",
              "variable_name": "df",
              "summary": "{\n  \"name\": \"df\",\n  \"rows\": 24783,\n  \"fields\": [\n    {\n      \"column\": \"index\",\n      \"properties\": {\n        \"dtype\": \"number\",\n        \"std\": 7299,\n        \"min\": 0,\n        \"max\": 25296,\n        \"num_unique_values\": 24783,\n        \"samples\": [\n          2326,\n          16283,\n          19362\n        ],\n        \"semantic_type\": \"\",\n        \"description\": \"\"\n      }\n    },\n    {\n      \"column\": \"label\",\n      \"properties\": {\n        \"dtype\": \"number\",\n        \"std\": 0,\n        \"min\": 0,\n        \"max\": 1,\n        \"num_unique_values\": 2,\n        \"samples\": [\n          1,\n          0\n        ],\n        \"semantic_type\": \"\",\n        \"description\": \"\"\n      }\n    },\n    {\n      \"column\": \"cleaned_text\",\n      \"properties\": {\n        \"dtype\": \"string\",\n        \"num_unique_values\": 24554,\n        \"samples\": [\n          \"eartlessgiri amazes simple girls insane bitches itd easy normal amp sane ge\",\n          \"early bird gets worm second mouse gets cheese risengrind\"\n        ],\n        \"semantic_type\": \"\",\n        \"description\": \"\"\n      }\n    }\n  ]\n}"
            }
          },
          "metadata": {},
          "execution_count": 8
        }
      ],
      "source": [
        "df = safe_load_csv(hate_speech_file)\n",
        "df['cleaned_text'] = df['raw_text'].apply(clean_text)\n",
        "df = df[['index', 'label', 'cleaned_text']]\n",
        "\n",
        "df.head(20) # Test if the annotated dataset (now dataframe) was correctly cleaned and formatted"
      ]
    },
    {
      "cell_type": "code",
      "source": [
        "# Histogram to understand comparative quantities of tweets annotated as hateful vs not hateful\n",
        "label_counts = df['label'].value_counts().sort_index()\n",
        "\n",
        "plt.figure(figsize=(6, 4))\n",
        "plt.bar(['Not Hate (0)', 'Hate (1)'], label_counts, color=['#2a9d8f', '#264653'])\n",
        "plt.title('Distribution of Hate vs Non-Hate Tweets')\n",
        "plt.xlabel('Tweet Class')\n",
        "plt.ylabel('Number of Tweets')\n",
        "plt.grid(axis='y', linestyle='--', alpha=0.7)\n",
        "plt.tight_layout()\n",
        "plt.show()"
      ],
      "metadata": {
        "id": "HYC3BxECXDn3",
        "colab": {
          "base_uri": "https://localhost:8080/",
          "height": 407
        },
        "outputId": "dfb4f877-a37a-44a2-bd03-e114ee79bc3d"
      },
      "execution_count": null,
      "outputs": [
        {
          "output_type": "display_data",
          "data": {
            "text/plain": [
              "<Figure size 600x400 with 1 Axes>"
            ],
            "image/png": "[encoded data removed]"
          },
          "metadata": {}
        }
      ]
    },
    {
      "cell_type": "markdown",
      "source": [
        "Clearly this full dataset contains a significantly vaster quantity of hate speech than non hate speech, which may lead to a bias in having a better view of what is hate speech, while suffering from a lack of training as to what is not hate speech (perhaps more Type I and II errors will result)."
      ],
      "metadata": {
        "id": "M6pZ6oy3Z5Uw"
      }
    },
    {
      "cell_type": "markdown",
      "metadata": {
        "id": "9Gcoq8MvOGUR"
      },
      "source": [
        "## General Hate Speech Detector (Trained on Full Dataset)\n",
        "### 5-Fold Cross-Validation Applied"
      ]
    },
    {
      "cell_type": "code",
      "execution_count": null,
      "metadata": {
        "id": "5HJ-Lr8DLJ4R"
      },
      "outputs": [],
      "source": [
        "vectorizer = TfidfVectorizer(max_features=5000) # Custom word vectorizer using Term-Frequency Inverse Document-Frequency\n",
        "X_all = vectorizer.fit_transform(df['cleaned_text'])\n",
        "y_all = df['label']\n",
        "\n",
        "clf_general = LogisticRegression(max_iter=1000) # Well paired with lightweight word vectorizers for testing"
      ]
    },
    {
      "cell_type": "markdown",
      "source": [
        "Note that with 5 fold cross validation, all the data in the tweets set gets used for training and testing, in total, because each iteration picks a different partition of the data to be the test set, whereas the rest is the train set.  This ensures that the metrics are more robust and we can't just \"get lucky\" with a specific train-test split."
      ],
      "metadata": {
        "id": "KhqlMiVQbIjC"
      }
    },
    {
      "cell_type": "code",
      "execution_count": null,
      "metadata": {
        "id": "Td6K98EALUpg",
        "colab": {
          "base_uri": "https://localhost:8080/"
        },
        "outputId": "4e17e8aa-85ec-42ac-961a-01eec11535a4"
      },
      "outputs": [
        {
          "output_type": "stream",
          "name": "stdout",
          "text": [
            "\n",
            "--- General Hate Speech Model - Detailed 5-Fold CV Metrics ---\n",
            "Accuracy:  0.9359\n",
            "Precision: 0.9449\n",
            "Recall:    0.9802\n",
            "F1-score:  0.9622\n"
          ]
        }
      ],
      "source": [
        "# Perform detailed 5-fold cross-validation with multiple metrics\n",
        "cv_results = cross_validate(clf_general, X_all, y_all, cv=5, scoring=['accuracy', 'precision', 'recall', 'f1'], return_estimator=True)\n",
        "\n",
        "y_pred_all = cross_val_predict(clf_general, X_all, y_all, cv=5)\n",
        "\n",
        "# Clearly evaluate and visualize metrics\n",
        "print(\"\\n--- General Hate Speech Model - Detailed 5-Fold CV Metrics ---\")\n",
        "print(f\"Accuracy:  {cv_results['test_accuracy'].mean():.4f}\")\n",
        "print(f\"Precision: {cv_results['test_precision'].mean():.4f}\")\n",
        "print(f\"Recall:    {cv_results['test_recall'].mean():.4f}\")\n",
        "print(f\"F1-score:  {cv_results['test_f1'].mean():.4f}\")"
      ]
    },
    {
      "cell_type": "markdown",
      "metadata": {
        "id": "lf0NVLyIO2BQ"
      },
      "source": [
        "Overall these are good metrics and impressive results, however, note that they are inflated due to the bias of the dataset, which is comprised of a supermajority of hate speech, meaning that the training might be underfit as it is trained on so many instances of hate speech that even if it makes mistakes by classifying non-hate as hateful, the instances of this are few and far between due to the sparsity of non-hate tweets in the dataframe."
      ]
    },
    {
      "cell_type": "code",
      "execution_count": null,
      "metadata": {
        "id": "CtAerQcjNUhC",
        "colab": {
          "base_uri": "https://localhost:8080/",
          "height": 472
        },
        "outputId": "6ff822c9-631e-45bc-ef54-04cbb6929aca"
      },
      "outputs": [
        {
          "output_type": "display_data",
          "data": {
            "text/plain": [
              "<Figure size 640x480 with 2 Axes>"
            ],
            "image/png": "[encoded data removed]"
          },
          "metadata": {}
        }
      ],
      "source": [
        "# Confusion Matrix\n",
        "cm_general = confusion_matrix(y_all, y_pred_all)\n",
        "disp_general = ConfusionMatrixDisplay(confusion_matrix=cm_general, display_labels=['Not Hate', 'Hate'])\n",
        "disp_general.plot()\n",
        "plt.title(\"Confusion Matrix - General Hate Speech Model\")\n",
        "plt.show()"
      ]
    },
    {
      "cell_type": "markdown",
      "source": [
        "From the matrix we can see that when it comes to training hate speech on the full 24K tweets in the dataset (without specifically focusing on Anti-Arab language) the model performs very well, correctly identifying 20K cases of hate speech and 3K cases of non-hate speech, whereas only misclassifying around 400 true hate as non-hate, and 1K true non-hate as hate.  This supports the fact that inspite biases in the dataset, the model is effective."
      ],
      "metadata": {
        "id": "7BveltMmaqDu"
      }
    },
    {
      "cell_type": "code",
      "execution_count": null,
      "metadata": {
        "id": "96lJFExlNeP4",
        "colab": {
          "base_uri": "https://localhost:8080/"
        },
        "outputId": "3382ffef-0064-4a4a-c5fb-730e31a2cd8a"
      },
      "outputs": [
        {
          "output_type": "stream",
          "name": "stdout",
          "text": [
            "\n",
            "--- Misclassified Examples (Edge Cases) ---\n",
            "                                          cleaned_text  label  predicted_label\n",
            "0    ayasolovely woman shouldnt complain cleaning h...      0                1\n",
            "40               momma said pussy cats inside doghouse      0                1\n",
            "63   ddictedguys simplyaddictedtoguys woof woof hot...      0                1\n",
            "70   rizonasfinest eggplant emoji doey say looked l...      0                1\n",
            "119  dgarpixar overdosing heavy drugs doesnt sound ...      0                1\n",
            "124  unnypicsdepot play soccer cheat girls wear kha...      0                1\n",
            "140             ermosaalma isnt ghettoits smart im idc      0                1\n",
            "149  reebo wants get nose bad bois scally chav sock...      0                1\n",
            "158  eyshawnswag peel peel bring back rewind back i...      0                1\n",
            "162  ingshawn hitethunduh thats get yellow flags am...      1                0\n"
          ]
        }
      ],
      "source": [
        "misclassified_general = df[y_all != y_pred_all].copy() # Compiling of false positive and false negatives\n",
        "misclassified_general['predicted_label'] = y_pred_all[y_all != y_pred_all] # (ex. classified as 1 when in reality is 0, and vice versa)\n",
        "\n",
        "print(\"\\n--- Misclassified Examples (Edge Cases) ---\")\n",
        "print(misclassified_general[['cleaned_text', 'label', 'predicted_label']].head(10))"
      ]
    },
    {
      "cell_type": "markdown",
      "metadata": {
        "id": "n2YtkXRNNism"
      },
      "source": [
        "Note that 1 <=> hate speech; 0 <=> non hate speech.  It is critical to understand what sentiments trigger or escape the training of the model, for future improvements, or ensuring a more robust training set"
      ]
    },
    {
      "cell_type": "code",
      "execution_count": null,
      "metadata": {
        "id": "RaNmBaubOWtr"
      },
      "outputs": [],
      "source": [
        "# Test model performance on custom examples\n",
        "custom_examples = [\n",
        "    \"I hate this group of people so much!\",\n",
        "    \"He will bake you a cake\",\n",
        "    \"This is disgusting behavior from those people.\",\n",
        "    \"Such a wonderful community event!\"\n",
        "]"
      ]
    },
    {
      "cell_type": "code",
      "execution_count": null,
      "metadata": {
        "id": "w0bNjCvpOX3n",
        "colab": {
          "base_uri": "https://localhost:8080/"
        },
        "outputId": "3a47c485-314a-4449-c8d5-b1337834dd6b"
      },
      "outputs": [
        {
          "output_type": "stream",
          "name": "stdout",
          "text": [
            "\n",
            "--- Custom Examples Classification ---\n",
            "'I hate this group of people so much!' ==> Hate\n",
            "'He will bake you a cake' ==> Not Hate\n",
            "'This is disgusting behavior from those people.' ==> Hate\n",
            "'Such a wonderful community event!' ==> Hate\n"
          ]
        }
      ],
      "source": [
        "custom_X = vectorizer.transform(custom_examples)\n",
        "custom_preds = clf_general.fit(X_all, y_all).predict(custom_X)\n",
        "\n",
        "print(\"\\n--- Custom Examples Classification ---\")\n",
        "for text, pred in zip(custom_examples, custom_preds):\n",
        "    print(f\"'{text}' ==> {'Hate' if pred else 'Not Hate'}\")"
      ]
    },
    {
      "cell_type": "markdown",
      "metadata": {
        "id": "qMTFjBg9RduM"
      },
      "source": [
        "Evidence that even an extremely positive sentiment can be mistaken as hate speech, perhaps because the TF-IDF vectorizor has been overtrained on the association between strongly emotional expression and hatefulness--a likely source of bias from the Twitter (X) dataset."
      ]
    },
    {
      "cell_type": "markdown",
      "metadata": {
        "id": "17DdBlXKP662"
      },
      "source": [
        "## Custom Anti-Arab Sentiment Hate Speech Detector (Trained on Curated Set)\n",
        "### 2-Fold Cross Validation Applied"
      ]
    },
    {
      "cell_type": "code",
      "execution_count": null,
      "metadata": {
        "id": "02_VOeqHEvYc"
      },
      "outputs": [],
      "source": [
        "nlp = spacy.load(\"en_core_web_sm\") # For named entity recognition (NER)\n",
        "\n",
        "# A keywords list based on common keyword searches pertaining to Arabic culture / ethnicity\n",
        "arab_or_muslim_keywords = [\n",
        "    'arab', 'arabs', 'arabic', 'middle east', 'muslim', 'islam', 'mideast', 'gulf',\n",
        "    'allah', 'mashallah', 'inshallah', 'ramadan', 'eid', 'halal', 'haram', 'ummah',\n",
        "    'sunni', 'shia', 'mecca', 'medina', 'quran', 'hijab', 'burqa', 'jihad',\n",
        "    'prophet', 'muhammad', 'imam', 'sheikh', 'salaam', 'masjid', 'caliph',\n",
        "    'hijrah', 'zakat', 'fasting', 'iftar', 'suhur', 'taraweeh', 'niqab', 'abaya',\n",
        "    'palestine'\n",
        "]"
      ]
    },
    {
      "cell_type": "markdown",
      "source": [
        "This list of keywords is not exhaustive but is intended to be as explicit as possible, since it is not up to keywords to determine if text is referring to Arabs based on implicit wording--this task is delegated to NER, which means an area of improvement for this program would be a more robust method of identifying implicit references to Arabs, some of which may be veiled insults, figurative language, etc."
      ],
      "metadata": {
        "id": "TOs2ARhreToG"
      }
    },
    {
      "cell_type": "code",
      "execution_count": null,
      "metadata": {
        "id": "Q55DRydNCo1D"
      },
      "outputs": [],
      "source": [
        "def mentions_arabs_ner(text):\n",
        "    doc = nlp(text)\n",
        "    keywords = any(kw in text.lower() for kw in arab_or_muslim_keywords) # Explicit mention\n",
        "    ner_mentions = any(ent.label_ in ['NORP', 'GPE', 'LOC'] and 'arab' in ent.text.lower() for ent in doc.ents) # Named entity related to Arab is found\n",
        "    return keywords or ner_mentions # If either of these, Arabs are assumed to be mentioned\n",
        "\n",
        "df['mentions_arabs'] = df['cleaned_text'].apply(mentions_arabs_ner)"
      ]
    },
    {
      "cell_type": "markdown",
      "metadata": {
        "id": "6B6s6wno0BRz"
      },
      "source": [
        "Note that only a small number (225) out of over 24K of the tweets mention topics pertaining to Arab keywords.  This should still be enough to train on a broader dataset (for overall hate speech) and test against specifically on tweets pertaining to Arabs."
      ]
    },
    {
      "cell_type": "code",
      "execution_count": null,
      "metadata": {
        "id": "hn7Wcu-lWQCS",
        "colab": {
          "base_uri": "https://localhost:8080/"
        },
        "outputId": "ad53c593-63d5-4d07-c2ee-37d43b0cb21c"
      },
      "outputs": [
        {
          "output_type": "stream",
          "name": "stdout",
          "text": [
            "Arab tweets available: 225, Non-Arab tweets available: 24558\n"
          ]
        }
      ],
      "source": [
        "arab_df = df[df['mentions_arabs']]\n",
        "non_arab_df = df[~df['mentions_arabs']] # The complement of arab_df, containing only tweets that do not discuss Arabs.\n",
        "\n",
        "# Verify counts clearly\n",
        "print(f\"Arab tweets available: {len(arab_df)}, Non-Arab tweets available: {len(non_arab_df)}\")"
      ]
    },
    {
      "cell_type": "code",
      "execution_count": null,
      "metadata": {
        "id": "QfevvHDq4ctA"
      },
      "outputs": [],
      "source": [
        "# Split Arab-related tweets 50-50\n",
        "half_arab_count = len(arab_df) // 2\n",
        "arab_train = arab_df.sample(n=half_arab_count, random_state=42)\n",
        "arab_test = arab_df.drop(arab_train.index)\n",
        "\n",
        "# Sample 20K non-Arab tweets for training (mix in with the training half of the Arab related tweets\n",
        "non_arab_train = non_arab_df.sample(n=20000, random_state=42)"
      ]
    },
    {
      "cell_type": "markdown",
      "metadata": {
        "id": "Ffit70ni51o6"
      },
      "source": [
        "Note, althought the industry standard train-test split is 80-20, and not 50-50, we are training for hate speech, since we have a mechnanism of identifying tweets pertaining to Arabs already, and so we have a full dataset of 24K tweets to pull from in addition to the 50% of Arab-related tweets, which actually disproportionally outweight the amount of Arab-related tweets.\n",
        "\n",
        "This will still yield better results hence why we merge the approx. 112 Arab-related tweets with 20000 other tweets from the dataset for training.\n",
        "\n",
        "However, we test specifically on the effectiveness at identifying hateful sentiment amongst the Arab-related tweets (with the remaining unused Arab-related posts)--this is the mission of this project.\n",
        "\n",
        "Note further that sampling is done randomly, although seeded to ensure reproducabiliy of the experiment's results."
      ]
    },
    {
      "cell_type": "code",
      "execution_count": null,
      "metadata": {
        "id": "j-gt7Es0R4Ut"
      },
      "outputs": [],
      "source": [
        "# Combine training data and vectorize\n",
        "train_df = pd.concat([arab_train, non_arab_train]).sample(frac=1, random_state=42).reset_index(drop=True)\n",
        "X_train = vectorizer.fit_transform(train_df['cleaned_text'])\n",
        "y_train = train_df['label']\n",
        "\n",
        "# Test data is the other half of Arab tweets\n",
        "X_test = vectorizer.transform(arab_test['cleaned_text'])\n",
        "y_test = arab_test['label']"
      ]
    },
    {
      "cell_type": "code",
      "execution_count": null,
      "metadata": {
        "id": "KTDbdANKR6br",
        "colab": {
          "base_uri": "https://localhost:8080/"
        },
        "outputId": "93f63fa2-626c-42a2-ebb0-7294d23c2742"
      },
      "outputs": [
        {
          "output_type": "stream",
          "name": "stdout",
          "text": [
            "\n",
            "--- Arab-specific Hate Speech Model Metrics (2-Fold) ---\n",
            "              precision    recall  f1-score   support\n",
            "\n",
            "           0       0.93      0.83      0.88        64\n",
            "           1       0.80      0.92      0.86        49\n",
            "\n",
            "    accuracy                           0.87       113\n",
            "   macro avg       0.87      0.87      0.87       113\n",
            "weighted avg       0.88      0.87      0.87       113\n",
            "\n"
          ]
        }
      ],
      "source": [
        "# Train model on this custom set\n",
        "clf_arab_specific = LogisticRegression(max_iter=1000)\n",
        "clf_arab_specific.fit(X_train, y_train)\n",
        "y_pred = clf_arab_specific.predict(X_test)\n",
        "\n",
        "# Evaluation metrics\n",
        "print(\"\\n--- Arab-specific Hate Speech Model Metrics (2-Fold) ---\")\n",
        "print(classification_report(y_test, y_pred))"
      ]
    },
    {
      "cell_type": "code",
      "execution_count": null,
      "metadata": {
        "id": "u_v1xamtWWI7",
        "colab": {
          "base_uri": "https://localhost:8080/",
          "height": 472
        },
        "outputId": "ba139d5f-5535-4825-c16d-54edfe4dfbc2"
      },
      "outputs": [
        {
          "output_type": "display_data",
          "data": {
            "text/plain": [
              "<Figure size 640x480 with 2 Axes>"
            ],
            "image/png": "[encoded data removed]"
          },
          "metadata": {}
        }
      ],
      "source": [
        "# Confusion Matrix\n",
        "cm_arab = confusion_matrix(y_test, y_pred)\n",
        "disp_arab = ConfusionMatrixDisplay(confusion_matrix=cm_arab, display_labels=['Not Hate', 'Hate'])\n",
        "disp_arab.plot()\n",
        "plt.title(\"Confusion Matrix - Arab-Specific Hate Speech Model\")\n",
        "plt.show()"
      ]
    },
    {
      "cell_type": "markdown",
      "source": [
        "Evidently, this model performs slightly worse than the General Hate Speech model that was trained on the full dataset--specifically in regards to the proportion of false positives (believing that a consensus-determined non-hate comment was actually hate speech).  Perhaps this has to do with the training size or the specificity of Arab sentiments which differ too greatly from other types of hate speech that the system searches for.\n",
        "\n",
        "However, overall this model still performs very well achieving 80's and 90's across the board of all evaluation metrics (recall, accuracy, precision, ...).  It would likely benefit from more test data and more diverse training data, but pleasanltly suprised on its ability to identify a high proportion of true Non-Hate comments, given that non-hate is scarce in the training dataset."
      ],
      "metadata": {
        "id": "tpGdneJgfm-6"
      }
    },
    {
      "cell_type": "code",
      "execution_count": null,
      "metadata": {
        "id": "BFXPsAEsSC4y",
        "colab": {
          "base_uri": "https://localhost:8080/",
          "height": 472
        },
        "outputId": "58926fc8-23f8-40ed-a8b0-d269e13943b4"
      },
      "outputs": [
        {
          "output_type": "display_data",
          "data": {
            "text/plain": [
              "<Figure size 640x480 with 1 Axes>"
            ],
            "image/png": "[encoded data removed]"
          },
          "metadata": {}
        }
      ],
      "source": [
        "# ROC Curve\n",
        "from sklearn.metrics import RocCurveDisplay\n",
        "probs = clf_arab_specific.predict_proba(X_test)[:, 1]\n",
        "RocCurveDisplay.from_predictions(y_test, probs)\n",
        "plt.title(\"ROC Curve - Arab-Specific Model\")\n",
        "plt.show()"
      ]
    },
    {
      "cell_type": "markdown",
      "source": [
        "The optimal shape for an ROC curve is 1. line from (0,0) to (0,1) and 2. line from (0,1) to (1,1).  This figure reaches very close (93% conformancy) to this shape with some bowing towards the top left corner area.\n",
        "\n",
        "Note that the shape imples that from (0,0) to the end of the vertical line, no false positives, and then it curves slightly, meaning a few errors but nearly no false positives overall.  The flattening at the top and curving right indicates that the true positives are vastly captured by the test.\n",
        "\n",
        "The indicates that the model is very well-tuned for specificity and sensitivity."
      ],
      "metadata": {
        "id": "ynR8__-5gi0Y"
      }
    },
    {
      "cell_type": "code",
      "execution_count": null,
      "metadata": {
        "id": "qS01iNa8SImq",
        "colab": {
          "base_uri": "https://localhost:8080/"
        },
        "outputId": "f3c7455f-8b77-4b7d-c2ed-c6153da9ef9d"
      },
      "outputs": [
        {
          "output_type": "stream",
          "name": "stdout",
          "text": [
            "\n",
            "--- Misclassified Arab-related Examples ---\n",
            "                                            cleaned_text  label  \\\n",
            "798    wearerepublicnotregime potus bo violated usa s...      0   \n",
            "1240   lgrillo islamic state suspects indonesia chine...      0   \n",
            "3333   berghattie nkscoyote wonder progs didnt relega...      0   \n",
            "4694   hepnewsteam lmao dude said would get commitmen...      0   \n",
            "7794   apaches mm rounds turn jihadis tomato soup ark...      1   \n",
            "11471  idiotic censorship drive france president fail...      0   \n",
            "12060  jihadi pop music debates yo bro hear latest ab...      0   \n",
            "12065  jihadis running claim king saudi arabia died t...      0   \n",
            "16164  emarquand jihadiinchief hussein urges restrain...      0   \n",
            "17921  sabillofrights psychological warfare dhimmis d...      0   \n",
            "\n",
            "       predicted_label  \n",
            "798                  1  \n",
            "1240                 1  \n",
            "3333                 1  \n",
            "4694                 1  \n",
            "7794                 0  \n",
            "11471                1  \n",
            "12060                1  \n",
            "12065                1  \n",
            "16164                1  \n",
            "17921                1  \n"
          ]
        }
      ],
      "source": [
        "misclassified_arab = arab_test.copy()\n",
        "misclassified_arab['predicted_label'] = y_pred\n",
        "errors = misclassified_arab[y_test != y_pred]\n",
        "\n",
        "print(\"\\n--- Misclassified Arab-related Examples ---\")\n",
        "print(errors[['cleaned_text', 'label', 'predicted_label']].head(10))"
      ]
    },
    {
      "cell_type": "code",
      "execution_count": null,
      "metadata": {
        "id": "TNXHdV19SLA0"
      },
      "outputs": [],
      "source": [
        "# Test on custom examples\n",
        "custom_arab_examples = [\n",
        "    \"All Arabs are terrorists.\",\n",
        "    \"Ramadan is a peaceful month for Muslims.\",\n",
        "    \"Muslims are taking over the country!\",\n",
        "    \"I had amazing falafel from a halal shop yesterday.\"\n",
        "]\n",
        "\n",
        "custom_X_arab = vectorizer.transform(custom_arab_examples)\n",
        "custom_preds_arab = clf_arab_specific.predict(custom_X_arab)"
      ]
    },
    {
      "cell_type": "code",
      "execution_count": null,
      "metadata": {
        "id": "eahsnYjlSRWi",
        "colab": {
          "base_uri": "https://localhost:8080/"
        },
        "outputId": "63a61c86-c371-4e21-cb10-6acc5cfe4286"
      },
      "outputs": [
        {
          "output_type": "stream",
          "name": "stdout",
          "text": [
            "\n",
            "--- Custom Arab-related Examples Classification ---\n",
            "'All Arabs are terrorists.' ==> Hate\n",
            "'Ramadan is a peaceful month for Muslims.' ==> Hate\n",
            "'Muslims are taking over the country!' ==> Hate\n",
            "'I had amazing falafel from a halal shop yesterday.' ==> Not Hate\n"
          ]
        }
      ],
      "source": [
        "print(\"\\n--- Custom Arab-related Examples Classification ---\")\n",
        "for text, pred in zip(custom_arab_examples, custom_preds_arab):\n",
        "    print(f\"'{text}' ==> {'Hate' if pred else 'Not Hate'}\")"
      ]
    },
    {
      "cell_type": "markdown",
      "source": [
        "Once again this pattern of having overly positive sentiment \"amazing falafel\", \"peaceful\" for instance seems to be triggering the model's tendency to find false positives, which ought to be remedied, likely with better training.\n",
        "\n",
        "This is evident in both the misclassified examples, enumerated in the cells above, as well as with the spot-check on custom sentence / post examples."
      ],
      "metadata": {
        "id": "3BxVs3BlhyPP"
      }
    },
    {
      "cell_type": "markdown",
      "metadata": {
        "id": "F7td2QQH6mHy"
      },
      "source": [
        "## Invoking BERT as a Word Encoder and Sentiment Vectorizer\n",
        "### A Pre-Trained Model and Baseline to Compare Against"
      ]
    },
    {
      "cell_type": "code",
      "execution_count": null,
      "metadata": {
        "id": "AqB0OX0oCxjp",
        "colab": {
          "base_uri": "https://localhost:8080/",
          "height": 301,
          "referenced_widgets": [
            "b21c4162b43942ad83876a780cb6febe",
            "2cb5624997c449fe853281ede755bd05",
            "9a0bd17589c243fc94b2b79b33ffd273",
            "869e81e4473f4ebbba6eb44215ffd72f",
            "56f7ac2014614779a06a9142b6fc11c2",
            "1b1dd3bcf04a42638ea5551ba0787450",
            "241b4f8cece1400a93712f9c03c17671",
            "967f411dfb5e4a67b6b05ea071260091",
            "2015b5b2bcec48cba118abb6746b28f4",
            "42510ddeb7774c4784b33acecd781a0f",
            "f1f98dfdac4c44dca7d2f7364468d5dc",
            "c244e52eec15454da9f1136576c66960",
            "65b59e47e8e6484e8c6abe813c7f4114",
            "02d2d5aad5354c8f9bf520ecb315c852",
            "f7bee14985a744bab86012e88e8afa56",
            "d8cab450d9c74bffa071dc0891407978",
            "8e1c24b920964d168c7c1b27d5abc5b0",
            "c6ed19f2bbd741f990e1080b0eb92ea1",
            "bbef2f5444a54744bec7a17c8d152830",
            "f0d5e0e1eb8846c79b82b0ac5355cb74",
            "b81f4bbd3c3847ee85211e6c9531afa8",
            "c52fb373275546ee8dc49961abb946a8",
            "87ab17039baf43498e0a1369424cc516",
            "e7fae55be5e24e41a4dd0adc9a8e8d0d",
            "adb372d810094fa3b32f82b865bfea85",
            "edaea4b4d9d64f2694c6cfd80afab03d",
            "ee58a7e3d0824f6da10473c27a37fca7",
            "e69c7f3c391144849a9aa20700059b0c",
            "a0e99d16628240a8baa39eba25b86959",
            "cda6ef8ef2064fd38578b1a0b202950d",
            "decda6e924024b0197a09e4c57f5d10c",
            "c8eae73a7a1a43b29229d1b7a0dfae69",
            "e818731f06ca48ce8c9b2acc39835f8b",
            "b0906ef7b743411ca6f9aef06811c8a2",
            "dabcb48053834e56beeb75a2f7c3e8a9",
            "a26061819a8e4f9a857b09934dc9e72b",
            "77d76cdd502e4c37b933f443f9b52df1",
            "8dafebaecf674c328eb832b7813bfdfd",
            "618f2e907ec14b74ae201f1ef28af526",
            "31cf7373815b4e46a6d524cf67f2d1a5",
            "7e3086c496504921bd04cb025198eeb3",
            "b41173452a5f4645b2f5354588cf0882",
            "3e33b1b2f58b4ab0b75d92e1f3665ea1",
            "e0b281db5ed845bea863437fc9a6d21a",
            "5612b95fb2ee4dcc995ec5e25bea7fa2",
            "2a01682053464f5f97f6214d83b9f122",
            "3322b4ec65e745a49e5cd9d0b0bad0ce",
            "bad30a32880f4a6e8854a1735a1112bf",
            "772bf7fb8784478daaf0c45ee27d79f5",
            "b33eb83e011c4a11a09599d144b4ebce",
            "ea627385d8b748418714446dc6a265b8",
            "55554c94216145718da6baa7d968511e",
            "ade4d6c674534204afeef8fc11c48c45",
            "3b83ef36d9b34c499c5ec4f58e5cd039",
            "6a622c7c8b6a4a3bb81566bf05e91e20"
          ]
        },
        "outputId": "42a73562-2e6a-4bc9-e732-05f9f60b9a89"
      },
      "outputs": [
        {
          "output_type": "stream",
          "name": "stderr",
          "text": [
            "/usr/local/lib/python3.11/dist-packages/huggingface_hub/utils/_auth.py:94: UserWarning: \n",
            "The secret `HF_TOKEN` does not exist in your Colab secrets.\n",
            "To authenticate with the Hugging Face Hub, create a token in your settings tab (https://huggingface.co/settings/tokens), set it as secret in your Google Colab and restart your session.\n",
            "You will be able to reuse this secret in all of your notebooks.\n",
            "Please note that authentication is recommended but still optional to access public models or datasets.\n",
            "  warnings.warn(\n"
          ]
        },
        {
          "output_type": "display_data",
          "data": {
            "text/plain": [
              "tokenizer_config.json:   0%|          | 0.00/152 [00:00<?, ?B/s]"
            ],
            "application/vnd.jupyter.widget-view+json": {
              "version_major": 2,
              "version_minor": 0,
              "model_id": "b21c4162b43942ad83876a780cb6febe"
            }
          },
          "metadata": {}
        },
        {
          "output_type": "display_data",
          "data": {
            "text/plain": [
              "config.json:   0%|          | 0.00/1.23k [00:00<?, ?B/s]"
            ],
            "application/vnd.jupyter.widget-view+json": {
              "version_major": 2,
              "version_minor": 0,
              "model_id": "c244e52eec15454da9f1136576c66960"
            }
          },
          "metadata": {}
        },
        {
          "output_type": "display_data",
          "data": {
            "text/plain": [
              "vocab.txt:   0%|          | 0.00/872k [00:00<?, ?B/s]"
            ],
            "application/vnd.jupyter.widget-view+json": {
              "version_major": 2,
              "version_minor": 0,
              "model_id": "87ab17039baf43498e0a1369424cc516"
            }
          },
          "metadata": {}
        },
        {
          "output_type": "display_data",
          "data": {
            "text/plain": [
              "special_tokens_map.json:   0%|          | 0.00/112 [00:00<?, ?B/s]"
            ],
            "application/vnd.jupyter.widget-view+json": {
              "version_major": 2,
              "version_minor": 0,
              "model_id": "b0906ef7b743411ca6f9aef06811c8a2"
            }
          },
          "metadata": {}
        },
        {
          "output_type": "display_data",
          "data": {
            "text/plain": [
              "pytorch_model.bin:   0%|          | 0.00/669M [00:00<?, ?B/s]"
            ],
            "application/vnd.jupyter.widget-view+json": {
              "version_major": 2,
              "version_minor": 0,
              "model_id": "5612b95fb2ee4dcc995ec5e25bea7fa2"
            }
          },
          "metadata": {}
        }
      ],
      "source": [
        "# Load pre-trained BERT model for evaluation, this is CNERG's special model for English\n",
        "bert_tokenizer = AutoTokenizer.from_pretrained(\"Hate-speech-CNERG/dehatebert-mono-english\")\n",
        "bert_model = AutoModelForSequenceClassification.from_pretrained(\"Hate-speech-CNERG/dehatebert-mono-english\")\n",
        "\n",
        "def bert_predict(text):\n",
        "    # Tokenize the input text for the BERT model\n",
        "    inputs = bert_tokenizer(text, return_tensors=\"pt\", truncation=True, padding=True)\n",
        "\n",
        "    # Disable gradient tracking for inference\n",
        "    with torch.no_grad():\n",
        "        logits = bert_model(**inputs).logits  # Get raw model outputs (logits)\n",
        "\n",
        "    # Return predicted class (0 or 1) and the confidence score for that prediction\n",
        "    return int(torch.argmax(logits)), torch.softmax(logits, dim=1).max().item()"
      ]
    },
    {
      "cell_type": "code",
      "execution_count": null,
      "metadata": {
        "id": "vFJFE0NlC0JP"
      },
      "outputs": [],
      "source": [
        "# Helper to evaluate a dataset\n",
        "def evaluate_bert_on_dataset(dataset, label=\"Dataset\"):\n",
        "    y_true = dataset['label'].tolist()\n",
        "    y_pred = [bert_predict(text)[0] for text in dataset['cleaned_text']]\n",
        "\n",
        "    print(f\"\\n--- Pre-trained BERT Evaluation on {label} ---\") # Automate the evaluation function results\n",
        "    print(classification_report(y_true, y_pred))\n",
        "\n",
        "    cm = confusion_matrix(y_true, y_pred) # Automate the confusion matrices\n",
        "    disp = ConfusionMatrixDisplay(confusion_matrix=cm, display_labels=['Not Hate', 'Hate'])\n",
        "    disp.plot()\n",
        "    plt.title(f\"Confusion Matrix - BERT on {label}\")\n",
        "    plt.show()"
      ]
    },
    {
      "cell_type": "markdown",
      "source": [
        "We test this BERT expertly calibrated model on 3 cases of data:\n",
        "1. Non-Arab Tweets entirely (from a filtered dataframe)\n",
        "2. Arab-Related Tweets entirely (from the other filtered dataframe)\n",
        "3. A mix to ensure that performance of General Hate Speech is consistent whether it pertains to Arab sentiments being expressed or any other sentiment (that may or may not be hate speech)"
      ],
      "metadata": {
        "id": "CnY5x5a0itn6"
      }
    },
    {
      "cell_type": "code",
      "execution_count": null,
      "metadata": {
        "id": "wjBBMo3RW0Vc",
        "colab": {
          "base_uri": "https://localhost:8080/",
          "height": 695,
          "referenced_widgets": [
            "e28906193d474891ad212a4919e078f9",
            "6b3ad1866a684fdcbfcf3c1ef7df9f26",
            "8795c3e9c9284752b72122fbd6b7c006",
            "ec3c92af41f9457ba7ea09a07ce1d6cd",
            "683eaebf6e3845e593357f98e67d5703",
            "4f64f0317c764474ace3611a3e0353dd",
            "aaeaa2da7ef24ca99a7702de85045a60",
            "113a86a3c94b43da896d62b7541cb68a",
            "932ceff1cc2849bd8847bf0ded1f83af",
            "b3d216f84cc448498cea21353bb50403",
            "3ed0ec6cd1c540ff8b2196725551ca6f"
          ]
        },
        "outputId": "f0899bc5-baa5-471a-9ac7-11099e248483"
      },
      "outputs": [
        {
          "output_type": "display_data",
          "data": {
            "text/plain": [
              "model.safetensors:   0%|          | 0.00/669M [00:00<?, ?B/s]"
            ],
            "application/vnd.jupyter.widget-view+json": {
              "version_major": 2,
              "version_minor": 0,
              "model_id": "e28906193d474891ad212a4919e078f9"
            }
          },
          "metadata": {}
        },
        {
          "output_type": "stream",
          "name": "stdout",
          "text": [
            "\n",
            "--- Pre-trained BERT Evaluation on Non-Arab Tweets ---\n",
            "              precision    recall  f1-score   support\n",
            "\n",
            "           0       0.48      0.90      0.63       305\n",
            "           1       0.98      0.82      0.90      1695\n",
            "\n",
            "    accuracy                           0.84      2000\n",
            "   macro avg       0.73      0.86      0.76      2000\n",
            "weighted avg       0.90      0.84      0.85      2000\n",
            "\n"
          ]
        },
        {
          "output_type": "display_data",
          "data": {
            "text/plain": [
              "<Figure size 640x480 with 2 Axes>"
            ],
            "image/png": "[encoded data removed]"
          },
          "metadata": {}
        }
      ],
      "source": [
        "# Case 1: Non-Arab tweets\n",
        "non_arab_sample = non_arab_df.sample(n=2000, random_state=42) # A large but proportionally reasonable sample of the full dataset (given its size, 24K posts)\n",
        "evaluate_bert_on_dataset(non_arab_sample, label=\"Non-Arab Tweets\")"
      ]
    },
    {
      "cell_type": "markdown",
      "source": [
        "Overall CNERG's BERT performs mediocrely and slightly worse than our own custom trained Hate Speech Detector Model, indicating a competitive (slightly stronger) position for our own model.  It is clear that BERT has a tendency to have false negatives (being less strict than the annotators must have been about what is considered hate speech), given the greater quantity of (Non Hate, Hate) as opposed to (Non Hate, Non Hate) classifications.\n",
        "\n",
        "This could be a bias on the part of the annotators / dataset to have a lower threshold for offense than the embedding and calibrating data that was fed to BERT.  This once again demonstrates a weakness in our models at identifying truly non-hateful speech given that the number of Type I and II errors rivel the number of non-hateful correctly-detected posts.  Alternatively, there are very few false positives (predicting a tweet as hateful when it wasn't)."
      ],
      "metadata": {
        "id": "GgLN4unDjIRZ"
      }
    },
    {
      "cell_type": "code",
      "source": [
        "# Case 2: Arab tweets\n",
        "evaluate_bert_on_dataset(arab_df, label=\"Arab Tweets\")"
      ],
      "metadata": {
        "id": "tnmKqTeUVC_m",
        "colab": {
          "base_uri": "https://localhost:8080/",
          "height": 663
        },
        "outputId": "db7ba762-ef77-4ca5-8194-dff83bc8f46b"
      },
      "execution_count": null,
      "outputs": [
        {
          "output_type": "stream",
          "name": "stdout",
          "text": [
            "\n",
            "--- Pre-trained BERT Evaluation on Arab Tweets ---\n",
            "              precision    recall  f1-score   support\n",
            "\n",
            "           0       0.87      0.88      0.88       127\n",
            "           1       0.84      0.83      0.84        98\n",
            "\n",
            "    accuracy                           0.86       225\n",
            "   macro avg       0.86      0.85      0.86       225\n",
            "weighted avg       0.86      0.86      0.86       225\n",
            "\n"
          ]
        },
        {
          "output_type": "display_data",
          "data": {
            "text/plain": [
              "<Figure size 640x480 with 2 Axes>"
            ],
            "image/png": "[encoded data removed]"
          },
          "metadata": {}
        }
      ]
    },
    {
      "cell_type": "markdown",
      "source": [
        "Here is where the effective performance shines across the board and a significant rivals the Custom Model's Arab sentiment classification tested priorly, with very few false positives and negatives (relative to the correctly classified tweets) and a surprisingly improved effectiveness at catching true non-hateful comments (specifically when it comes towards Arab-related commentary).  This indicates a notably accurate, precise, and performant model--very robust, which is its greatest strength compared to the Custom-trained (from scratch) Model tested above."
      ],
      "metadata": {
        "id": "ki6OqoTwkr-J"
      }
    },
    {
      "cell_type": "code",
      "source": [
        "# Case 3: Balanced Mix\n",
        "mixed_sample = pd.concat([arab_df.sample(n=112, random_state=42), non_arab_df.sample(n=112, random_state=42)]).sample(frac=1, random_state=42)\n",
        "evaluate_bert_on_dataset(mixed_sample, label=\"Mixed Arab and Non-Arab Tweets\")"
      ],
      "metadata": {
        "id": "i-pXdXBzVHJO",
        "colab": {
          "base_uri": "https://localhost:8080/",
          "height": 663
        },
        "outputId": "93bc4350-7e64-4667-83b0-fe4562d79395"
      },
      "execution_count": null,
      "outputs": [
        {
          "output_type": "stream",
          "name": "stdout",
          "text": [
            "\n",
            "--- Pre-trained BERT Evaluation on Mixed Arab and Non-Arab Tweets ---\n",
            "              precision    recall  f1-score   support\n",
            "\n",
            "           0       0.80      0.89      0.84        83\n",
            "           1       0.93      0.87      0.90       141\n",
            "\n",
            "    accuracy                           0.88       224\n",
            "   macro avg       0.86      0.88      0.87       224\n",
            "weighted avg       0.88      0.88      0.88       224\n",
            "\n"
          ]
        },
        {
          "output_type": "display_data",
          "data": {
            "text/plain": [
              "<Figure size 640x480 with 2 Axes>"
            ],
            "image/png": "[encoded data removed]"
          },
          "metadata": {}
        }
      ]
    },
    {
      "cell_type": "markdown",
      "source": [
        "Once again there is consistent, and even slightly better performance across a mixed dataset, using the BERT model, nearly all metrics are in the high 80's and 90's making for a very effective overall hate speech classifier.\n",
        "\n",
        "Ultimately, these 3 cases verify that the BERT model is considerably accurate and precise, it is well specified to general hate speech and anti-Arab hate speech alike, it doesn't have a strength for one over the other and so is clearly an optimal model choice to use in scaling up towards an industry-leading sentiment analysis product."
      ],
      "metadata": {
        "id": "xzGI1mZTmtvr"
      }
    },
    {
      "cell_type": "code",
      "execution_count": null,
      "metadata": {
        "id": "n6MR3HPKPa5P"
      },
      "outputs": [],
      "source": [
        "# Custom mock tweet examples\n",
        "mock_tweets = [\n",
        "    \"Arabs are ruining this country!\",\n",
        "    \"Eid Mubarak to everyone celebrating!\",\n",
        "    \"Muslims are terrorists, plain and simple.\",\n",
        "    \"The Arabic language is beautiful.\",\n",
        "    \"Why are there so many mosques now?\",\n",
        "    \"I visited Mecca and it was life-changing.\"\n",
        "]"
      ]
    },
    {
      "cell_type": "markdown",
      "source": [
        "Based on the results of this anecdotal evidence, and BERT's ability to not be tricked by sentiment that could induce false positive, it is clearly an effective model with high accuracy at identifying Anti-Arab hate speech sentiment, and would be useful if integrated for deployment as some chatbot tool, text checker, or monitoring system for a platform."
      ],
      "metadata": {
        "id": "gCf8EkZkll78"
      }
    },
    {
      "cell_type": "code",
      "execution_count": null,
      "metadata": {
        "id": "O285hRX_41q4",
        "colab": {
          "base_uri": "https://localhost:8080/"
        },
        "outputId": "51b6b12c-4005-4ad8-fdec-8ffaa429f414"
      },
      "outputs": [
        {
          "output_type": "stream",
          "name": "stdout",
          "text": [
            "\n",
            "--- BERT Predictions on Custom Mock Tweets ---\n",
            "'Arabs are ruining this country!' ==> Hate (Confidence: 0.73)\n",
            "'Eid Mubarak to everyone celebrating!' ==> Not Hate (Confidence: 0.98)\n",
            "'Muslims are terrorists, plain and simple.' ==> Not Hate (Confidence: 0.73)\n",
            "'The Arabic language is beautiful.' ==> Not Hate (Confidence: 0.98)\n",
            "'Why are there so many mosques now?' ==> Not Hate (Confidence: 0.97)\n",
            "'I visited Mecca and it was life-changing.' ==> Not Hate (Confidence: 0.98)\n"
          ]
        }
      ],
      "source": [
        "print(\"\\n--- BERT Predictions on Custom Mock Tweets ---\")\n",
        "for tweet in mock_tweets:\n",
        "    label, score = bert_predict(tweet)\n",
        "    print(f\"'{tweet}' ==> {'Hate' if label else 'Not Hate'} (Confidence: {score:.2f})\")"
      ]
    },
    {
      "cell_type": "markdown",
      "source": [
        "## Deployment Demonstration\n",
        "### A Lightweight Python Textbox Widget / App"
      ],
      "metadata": {
        "id": "25zcA2E0cwV9"
      }
    },
    {
      "cell_type": "markdown",
      "source": [
        "This lightweight interactive cell serves as a proof of concept for model deployment. It allows users to input a sentence or tweet and returns an output based on two criteria: whether the text is related to Arabs or Muslims, and whether it is classified as hate speech by the pre-trained BERT model (which was proven to be statistically more effective than training on custom data). While not a full production system, this interface demonstrates how the model could be integrated into a moderation or content analysis workflow in a practical setting.\n",
        "\n",
        "Potential use cases could be to limit or prevent hateful posts on social media platforms like the source platform (Twitter / X), as well as for personal use if someone wishes to be mindful / have a \"second pair of eyes\" warning them in case they are about to post or send a hateful message."
      ],
      "metadata": {
        "id": "fQf1Cc91f4HU"
      }
    },
    {
      "cell_type": "code",
      "source": [
        "import ipywidgets as widgets\n",
        "from IPython.display import display, Markdown\n",
        "\n",
        "# Chat logic and window\n",
        "def analyze_input(text):\n",
        "    arab_related = mentions_arabs_ner(text)\n",
        "    is_hate, confidence = bert_predict(text)\n",
        "    # Sentiment analysis logic portion:\n",
        "    output = f\"\"\"\n",
        "**User Input:** {text}\n",
        "\n",
        "**Anti-Arab Hate Speech?:** {'🚨 Yes' if (is_hate and arab_related) else '✅ No'} (Confidence: {confidence:.2f})\n",
        "\"\"\"\n",
        "    display(Markdown(output))\n",
        "\n",
        "# Chat-style visual details\n",
        "input_box = widgets.Textarea(\n",
        "    placeholder='Type a tweet or sentence here...',\n",
        "    description='Input:',\n",
        "    layout=widgets.Layout(width='100%', height='100px')\n",
        ")\n",
        "\n",
        "button = widgets.Button(description='Analyze')\n",
        "output_area = widgets.Output()\n",
        "\n",
        "def on_button_click(b):\n",
        "    output_area.clear_output()\n",
        "    with output_area:\n",
        "        analyze_input(input_box.value)\n",
        "\n",
        "button.on_click(on_button_click)\n",
        "\n",
        "display(input_box, button, output_area)"
      ],
      "metadata": {
        "id": "J-ym2Iw0c0Ps",
        "colab": {
          "base_uri": "https://localhost:8080/",
          "height": 226,
          "referenced_widgets": [
            "2071d20728814d008cc9977a7fe55d5c",
            "22ad98f0c68d4ea18935209c7e5bfd1f",
            "8e498231f4404051a490efd46ca997c5",
            "b510bbc18edb4d8fb7df3310c6b8f8cf",
            "f7b09fa50703455b9009fbaa0ebbd4bf",
            "15290be7f5cf4f698a6ca51c57c7b1a7",
            "90c577da951a42d69126d28f8e8806ee",
            "a7d1313ae2c54b21b73feca5671a7e28"
          ]
        },
        "outputId": "e2123fc7-c9c3-46a2-db06-c05797d1f0bf"
      },
      "execution_count": null,
      "outputs": [
        {
          "output_type": "display_data",
          "data": {
            "text/plain": [
              "Textarea(value='', description='Input:', layout=Layout(height='100px', width='100%'), placeholder='Type a twee…"
            ],
            "application/vnd.jupyter.widget-view+json": {
              "version_major": 2,
              "version_minor": 0,
              "model_id": "2071d20728814d008cc9977a7fe55d5c"
            }
          },
          "metadata": {}
        },
        {
          "output_type": "display_data",
          "data": {
            "text/plain": [
              "Button(description='Analyze', style=ButtonStyle())"
            ],
            "application/vnd.jupyter.widget-view+json": {
              "version_major": 2,
              "version_minor": 0,
              "model_id": "b510bbc18edb4d8fb7df3310c6b8f8cf"
            }
          },
          "metadata": {}
        },
        {
          "output_type": "display_data",
          "data": {
            "text/plain": [
              "Output()"
            ],
            "application/vnd.jupyter.widget-view+json": {
              "version_major": 2,
              "version_minor": 0,
              "model_id": "90c577da951a42d69126d28f8e8806ee"
            }
          },
          "metadata": {}
        }
      ]
    },
    {
      "cell_type": "markdown",
      "source": [
        "Expected output and example usage for the chatbox:\n",
        "\n",
        "![Screenshot 2025-04-06 at 12.53.39 PM.png](data:image/png;base64,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)"
      ],
      "metadata": {
        "id": "7BrZ4v4Nu5Kf"
      }
    }
  ],
  "metadata": {
    "colab": {
      "provenance": [],
      "collapsed_sections": [
        "3QJrftseyTAu",
        "FIvIb0zty3Gu",
        "9Gcoq8MvOGUR",
        "17DdBlXKP662",
        "F7td2QQH6mHy",
        "25zcA2E0cwV9"
      ]
    },
    "kernelspec": {
      "display_name": "Python 3",
      "name": "python3"
    },
    "language_info": {
      "name": "python"
    },
    "widgets": {
      "application/vnd.jupyter.widget-state+json": {
        "b21c4162b43942ad83876a780cb6febe": {
          "model_module": "@jupyter-widgets/controls",
          "model_name": "HBoxModel",
          "model_module_version": "1.5.0",
          "state": {
            "_dom_classes": [],
            "_model_module": "@jupyter-widgets/controls",
            "_model_module_version": "1.5.0",
            "_model_name": "HBoxModel",
            "_view_count": null,
            "_view_module": "@jupyter-widgets/controls",
            "_view_module_version": "1.5.0",
            "_view_name": "HBoxView",
            "box_style": "",
            "children": [
              "IPY_MODEL_2cb5624997c449fe853281ede755bd05",
              "IPY_MODEL_9a0bd17589c243fc94b2b79b33ffd273",
              "IPY_MODEL_869e81e4473f4ebbba6eb44215ffd72f"
            ],
            "layout": "IPY_MODEL_56f7ac2014614779a06a9142b6fc11c2"
          }
        },
        "2cb5624997c449fe853281ede755bd05": {
          "model_module": "@jupyter-widgets/controls",
          "model_name": "HTMLModel",
          "model_module_version": "1.5.0",
          "state": {
            "_dom_classes": [],
            "_model_module": "@jupyter-widgets/controls",
            "_model_module_version": "1.5.0",
            "_model_name": "HTMLModel",
            "_view_count": null,
            "_view_module": "@jupyter-widgets/controls",
            "_view_module_version": "1.5.0",
            "_view_name": "HTMLView",
            "description": "",
            "description_tooltip": null,
            "layout": "IPY_MODEL_1b1dd3bcf04a42638ea5551ba0787450",
            "placeholder": "​",
            "style": "IPY_MODEL_241b4f8cece1400a93712f9c03c17671",
            "value": "tokenizer_config.json: 100%"
          }
        },
        "9a0bd17589c243fc94b2b79b33ffd273": {
          "model_module": "@jupyter-widgets/controls",
          "model_name": "FloatProgressModel",
          "model_module_version": "1.5.0",
          "state": {
            "_dom_classes": [],
            "_model_module": "@jupyter-widgets/controls",
            "_model_module_version": "1.5.0",
            "_model_name": "FloatProgressModel",
            "_view_count": null,
            "_view_module": "@jupyter-widgets/controls",
            "_view_module_version": "1.5.0",
            "_view_name": "ProgressView",
            "bar_style": "success",
            "description": "",
            "description_tooltip": null,
            "layout": "IPY_MODEL_967f411dfb5e4a67b6b05ea071260091",
            "max": 152,
            "min": 0,
            "orientation": "horizontal",
            "style": "IPY_MODEL_2015b5b2bcec48cba118abb6746b28f4",
            "value": 152
          }
        },
        "869e81e4473f4ebbba6eb44215ffd72f": {
          "model_module": "@jupyter-widgets/controls",
          "model_name": "HTMLModel",
          "model_module_version": "1.5.0",
          "state": {
            "_dom_classes": [],
            "_model_module": "@jupyter-widgets/controls",
            "_model_module_version": "1.5.0",
            "_model_name": "HTMLModel",
            "_view_count": null,
            "_view_module": "@jupyter-widgets/controls",
            "_view_module_version": "1.5.0",
            "_view_name": "HTMLView",
            "description": "",
            "description_tooltip": null,
            "layout": "IPY_MODEL_42510ddeb7774c4784b33acecd781a0f",
            "placeholder": "​",
            "style": "IPY_MODEL_f1f98dfdac4c44dca7d2f7364468d5dc",
            "value": " 152/152 [00:00&lt;00:00, 11.0kB/s]"
          }
        },
        "56f7ac2014614779a06a9142b6fc11c2": {
          "model_module": "@jupyter-widgets/base",
          "model_name": "LayoutModel",
          "model_module_version": "1.2.0",
          "state": {
            "_model_module": "@jupyter-widgets/base",
            "_model_module_version": "1.2.0",
            "_model_name": "LayoutModel",
            "_view_count": null,
            "_view_module": "@jupyter-widgets/base",
            "_view_module_version": "1.2.0",
            "_view_name": "LayoutView",
            "align_content": null,
            "align_items": null,
            "align_self": null,
            "border": null,
            "bottom": null,
            "display": null,
            "flex": null,
            "flex_flow": null,
            "grid_area": null,
            "grid_auto_columns": null,
            "grid_auto_flow": null,
            "grid_auto_rows": null,
            "grid_column": null,
            "grid_gap": null,
            "grid_row": null,
            "grid_template_areas": null,
            "grid_template_columns": null,
            "grid_template_rows": null,
            "height": null,
            "justify_content": null,
            "justify_items": null,
            "left": null,
            "margin": null,
            "max_height": null,
            "max_width": null,
            "min_height": null,
            "min_width": null,
            "object_fit": null,
            "object_position": null,
            "order": null,
            "overflow": null,
            "overflow_x": null,
            "overflow_y": null,
            "padding": null,
            "right": null,
            "top": null,
            "visibility": null,
            "width": null
          }
        },
        "1b1dd3bcf04a42638ea5551ba0787450": {
          "model_module": "@jupyter-widgets/base",
          "model_name": "LayoutModel",
          "model_module_version": "1.2.0",
          "state": {
            "_model_module": "@jupyter-widgets/base",
            "_model_module_version": "1.2.0",
            "_model_name": "LayoutModel",
            "_view_count": null,
            "_view_module": "@jupyter-widgets/base",
            "_view_module_version": "1.2.0",
            "_view_name": "LayoutView",
            "align_content": null,
            "align_items": null,
            "align_self": null,
            "border": null,
            "bottom": null,
            "display": null,
            "flex": null,
            "flex_flow": null,
            "grid_area": null,
            "grid_auto_columns": null,
            "grid_auto_flow": null,
            "grid_auto_rows": null,
            "grid_column": null,
            "grid_gap": null,
            "grid_row": null,
            "grid_template_areas": null,
            "grid_template_columns": null,
            "grid_template_rows": null,
            "height": null,
            "justify_content": null,
            "justify_items": null,
            "left": null,
            "margin": null,
            "max_height": null,
            "max_width": null,
            "min_height": null,
            "min_width": null,
            "object_fit": null,
            "object_position": null,
            "order": null,
            "overflow": null,
            "overflow_x": null,
            "overflow_y": null,
            "padding": null,
            "right": null,
            "top": null,
            "visibility": null,
            "width": null
          }
        },
        "241b4f8cece1400a93712f9c03c17671": {
          "model_module": "@jupyter-widgets/controls",
          "model_name": "DescriptionStyleModel",
          "model_module_version": "1.5.0",
          "state": {
            "_model_module": "@jupyter-widgets/controls",
            "_model_module_version": "1.5.0",
            "_model_name": "DescriptionStyleModel",
            "_view_count": null,
            "_view_module": "@jupyter-widgets/base",
            "_view_module_version": "1.2.0",
            "_view_name": "StyleView",
            "description_width": ""
          }
        },
        "967f411dfb5e4a67b6b05ea071260091": {
          "model_module": "@jupyter-widgets/base",
          "model_name": "LayoutModel",
          "model_module_version": "1.2.0",
          "state": {
            "_model_module": "@jupyter-widgets/base",
            "_model_module_version": "1.2.0",
            "_model_name": "LayoutModel",
            "_view_count": null,
            "_view_module": "@jupyter-widgets/base",
            "_view_module_version": "1.2.0",
            "_view_name": "LayoutView",
            "align_content": null,
            "align_items": null,
            "align_self": null,
            "border": null,
            "bottom": null,
            "display": null,
            "flex": null,
            "flex_flow": null,
            "grid_area": null,
            "grid_auto_columns": null,
            "grid_auto_flow": null,
            "grid_auto_rows": null,
            "grid_column": null,
            "grid_gap": null,
            "grid_row": null,
            "grid_template_areas": null,
            "grid_template_columns": null,
            "grid_template_rows": null,
            "height": null,
            "justify_content": null,
            "justify_items": null,
            "left": null,
            "margin": null,
            "max_height": null,
            "max_width": null,
            "min_height": null,
            "min_width": null,
            "object_fit": null,
            "object_position": null,
            "order": null,
            "overflow": null,
            "overflow_x": null,
            "overflow_y": null,
            "padding": null,
            "right": null,
            "top": null,
            "visibility": null,
            "width": null
          }
        },
        "2015b5b2bcec48cba118abb6746b28f4": {
          "model_module": "@jupyter-widgets/controls",
          "model_name": "ProgressStyleModel",
          "model_module_version": "1.5.0",
          "state": {
            "_model_module": "@jupyter-widgets/controls",
            "_model_module_version": "1.5.0",
            "_model_name": "ProgressStyleModel",
            "_view_count": null,
            "_view_module": "@jupyter-widgets/base",
            "_view_module_version": "1.2.0",
            "_view_name": "StyleView",
            "bar_color": null,
            "description_width": ""
          }
        },
        "42510ddeb7774c4784b33acecd781a0f": {
          "model_module": "@jupyter-widgets/base",
          "model_name": "LayoutModel",
          "model_module_version": "1.2.0",
          "state": {
            "_model_module": "@jupyter-widgets/base",
            "_model_module_version": "1.2.0",
            "_model_name": "LayoutModel",
            "_view_count": null,
            "_view_module": "@jupyter-widgets/base",
            "_view_module_version": "1.2.0",
            "_view_name": "LayoutView",
            "align_content": null,
            "align_items": null,
            "align_self": null,
            "border": null,
            "bottom": null,
            "display": null,
            "flex": null,
            "flex_flow": null,
            "grid_area": null,
            "grid_auto_columns": null,
            "grid_auto_flow": null,
            "grid_auto_rows": null,
            "grid_column": null,
            "grid_gap": null,
            "grid_row": null,
            "grid_template_areas": null,
            "grid_template_columns": null,
            "grid_template_rows": null,
            "height": null,
            "justify_content": null,
            "justify_items": null,
            "left": null,
            "margin": null,
            "max_height": null,
            "max_width": null,
            "min_height": null,
            "min_width": null,
            "object_fit": null,
            "object_position": null,
            "order": null,
            "overflow": null,
            "overflow_x": null,
            "overflow_y": null,
            "padding": null,
            "right": null,
            "top": null,
            "visibility": null,
            "width": null
          }
        },
        "f1f98dfdac4c44dca7d2f7364468d5dc": {
          "model_module": "@jupyter-widgets/controls",
          "model_name": "DescriptionStyleModel",
          "model_module_version": "1.5.0",
          "state": {
            "_model_module": "@jupyter-widgets/controls",
            "_model_module_version": "1.5.0",
            "_model_name": "DescriptionStyleModel",
            "_view_count": null,
            "_view_module": "@jupyter-widgets/base",
            "_view_module_version": "1.2.0",
            "_view_name": "StyleView",
            "description_width": ""
          }
        },
        "c244e52eec15454da9f1136576c66960": {
          "model_module": "@jupyter-widgets/controls",
          "model_name": "HBoxModel",
          "model_module_version": "1.5.0",
          "state": {
            "_dom_classes": [],
            "_model_module": "@jupyter-widgets/controls",
            "_model_module_version": "1.5.0",
            "_model_name": "HBoxModel",
            "_view_count": null,
            "_view_module": "@jupyter-widgets/controls",
            "_view_module_version": "1.5.0",
            "_view_name": "HBoxView",
            "box_style": "",
            "children": [
              "IPY_MODEL_65b59e47e8e6484e8c6abe813c7f4114",
              "IPY_MODEL_02d2d5aad5354c8f9bf520ecb315c852",
              "IPY_MODEL_f7bee14985a744bab86012e88e8afa56"
            ],
            "layout": "IPY_MODEL_d8cab450d9c74bffa071dc0891407978"
          }
        },
        "65b59e47e8e6484e8c6abe813c7f4114": {
          "model_module": "@jupyter-widgets/controls",
          "model_name": "HTMLModel",
          "model_module_version": "1.5.0",
          "state": {
            "_dom_classes": [],
            "_model_module": "@jupyter-widgets/controls",
            "_model_module_version": "1.5.0",
            "_model_name": "HTMLModel",
            "_view_count": null,
            "_view_module": "@jupyter-widgets/controls",
            "_view_module_version": "1.5.0",
            "_view_name": "HTMLView",
            "description": "",
            "description_tooltip": null,
            "layout": "IPY_MODEL_8e1c24b920964d168c7c1b27d5abc5b0",
            "placeholder": "​",
            "style": "IPY_MODEL_c6ed19f2bbd741f990e1080b0eb92ea1",
            "value": "config.json: 100%"
          }
        },
        "02d2d5aad5354c8f9bf520ecb315c852": {
          "model_module": "@jupyter-widgets/controls",
          "model_name": "FloatProgressModel",
          "model_module_version": "1.5.0",
          "state": {
            "_dom_classes": [],
            "_model_module": "@jupyter-widgets/controls",
            "_model_module_version": "1.5.0",
            "_model_name": "FloatProgressModel",
            "_view_count": null,
            "_view_module": "@jupyter-widgets/controls",
            "_view_module_version": "1.5.0",
            "_view_name": "ProgressView",
            "bar_style": "success",
            "description": "",
            "description_tooltip": null,
            "layout": "IPY_MODEL_bbef2f5444a54744bec7a17c8d152830",
            "max": 1225,
            "min": 0,
            "orientation": "horizontal",
            "style": "IPY_MODEL_f0d5e0e1eb8846c79b82b0ac5355cb74",
            "value": 1225
          }
        },
        "f7bee14985a744bab86012e88e8afa56": {
          "model_module": "@jupyter-widgets/controls",
          "model_name": "HTMLModel",
          "model_module_version": "1.5.0",
          "state": {
            "_dom_classes": [],
            "_model_module": "@jupyter-widgets/controls",
            "_model_module_version": "1.5.0",
            "_model_name": "HTMLModel",
            "_view_count": null,
            "_view_module": "@jupyter-widgets/controls",
            "_view_module_version": "1.5.0",
            "_view_name": "HTMLView",
            "description": "",
            "description_tooltip": null,
            "layout": "IPY_MODEL_b81f4bbd3c3847ee85211e6c9531afa8",
            "placeholder": "​",
            "style": "IPY_MODEL_c52fb373275546ee8dc49961abb946a8",
            "value": " 1.23k/1.23k [00:00&lt;00:00, 80.9kB/s]"
          }
        },
        "d8cab450d9c74bffa071dc0891407978": {
          "model_module": "@jupyter-widgets/base",
          "model_name": "LayoutModel",
          "model_module_version": "1.2.0",
          "state": {
            "_model_module": "@jupyter-widgets/base",
            "_model_module_version": "1.2.0",
            "_model_name": "LayoutModel",
            "_view_count": null,
            "_view_module": "@jupyter-widgets/base",
            "_view_module_version": "1.2.0",
            "_view_name": "LayoutView",
            "align_content": null,
            "align_items": null,
            "align_self": null,
            "border": null,
            "bottom": null,
            "display": null,
            "flex": null,
            "flex_flow": null,
            "grid_area": null,
            "grid_auto_columns": null,
            "grid_auto_flow": null,
            "grid_auto_rows": null,
            "grid_column": null,
            "grid_gap": null,
            "grid_row": null,
            "grid_template_areas": null,
            "grid_template_columns": null,
            "grid_template_rows": null,
            "height": null,
            "justify_content": null,
            "justify_items": null,
            "left": null,
            "margin": null,
            "max_height": null,
            "max_width": null,
            "min_height": null,
            "min_width": null,
            "object_fit": null,
            "object_position": null,
            "order": null,
            "overflow": null,
            "overflow_x": null,
            "overflow_y": null,
            "padding": null,
            "right": null,
            "top": null,
            "visibility": null,
            "width": null
          }
        },
        "8e1c24b920964d168c7c1b27d5abc5b0": {
          "model_module": "@jupyter-widgets/base",
          "model_name": "LayoutModel",
          "model_module_version": "1.2.0",
          "state": {
            "_model_module": "@jupyter-widgets/base",
            "_model_module_version": "1.2.0",
            "_model_name": "LayoutModel",
            "_view_count": null,
            "_view_module": "@jupyter-widgets/base",
            "_view_module_version": "1.2.0",
            "_view_name": "LayoutView",
            "align_content": null,
            "align_items": null,
            "align_self": null,
            "border": null,
            "bottom": null,
            "display": null,
            "flex": null,
            "flex_flow": null,
            "grid_area": null,
            "grid_auto_columns": null,
            "grid_auto_flow": null,
            "grid_auto_rows": null,
            "grid_column": null,
            "grid_gap": null,
            "grid_row": null,
            "grid_template_areas": null,
            "grid_template_columns": null,
            "grid_template_rows": null,
            "height": null,
            "justify_content": null,
            "justify_items": null,
            "left": null,
            "margin": null,
            "max_height": null,
            "max_width": null,
            "min_height": null,
            "min_width": null,
            "object_fit": null,
            "object_position": null,
            "order": null,
            "overflow": null,
            "overflow_x": null,
            "overflow_y": null,
            "padding": null,
            "right": null,
            "top": null,
            "visibility": null,
            "width": null
          }
        },
        "c6ed19f2bbd741f990e1080b0eb92ea1": {
          "model_module": "@jupyter-widgets/controls",
          "model_name": "DescriptionStyleModel",
          "model_module_version": "1.5.0",
          "state": {
            "_model_module": "@jupyter-widgets/controls",
            "_model_module_version": "1.5.0",
            "_model_name": "DescriptionStyleModel",
            "_view_count": null,
            "_view_module": "@jupyter-widgets/base",
            "_view_module_version": "1.2.0",
            "_view_name": "StyleView",
            "description_width": ""
          }
        },
        "bbef2f5444a54744bec7a17c8d152830": {
          "model_module": "@jupyter-widgets/base",
          "model_name": "LayoutModel",
          "model_module_version": "1.2.0",
          "state": {
            "_model_module": "@jupyter-widgets/base",
            "_model_module_version": "1.2.0",
            "_model_name": "LayoutModel",
            "_view_count": null,
            "_view_module": "@jupyter-widgets/base",
            "_view_module_version": "1.2.0",
            "_view_name": "LayoutView",
            "align_content": null,
            "align_items": null,
            "align_self": null,
            "border": null,
            "bottom": null,
            "display": null,
            "flex": null,
            "flex_flow": null,
            "grid_area": null,
            "grid_auto_columns": null,
            "grid_auto_flow": null,
            "grid_auto_rows": null,
            "grid_column": null,
            "grid_gap": null,
            "grid_row": null,
            "grid_template_areas": null,
            "grid_template_columns": null,
            "grid_template_rows": null,
            "height": null,
            "justify_content": null,
            "justify_items": null,
            "left": null,
            "margin": null,
            "max_height": null,
            "max_width": null,
            "min_height": null,
            "min_width": null,
            "object_fit": null,
            "object_position": null,
            "order": null,
            "overflow": null,
            "overflow_x": null,
            "overflow_y": null,
            "padding": null,
            "right": null,
            "top": null,
            "visibility": null,
            "width": null
          }
        },
        "f0d5e0e1eb8846c79b82b0ac5355cb74": {
          "model_module": "@jupyter-widgets/controls",
          "model_name": "ProgressStyleModel",
          "model_module_version": "1.5.0",
          "state": {
            "_model_module": "@jupyter-widgets/controls",
            "_model_module_version": "1.5.0",
            "_model_name": "ProgressStyleModel",
            "_view_count": null,
            "_view_module": "@jupyter-widgets/base",
            "_view_module_version": "1.2.0",
            "_view_name": "StyleView",
            "bar_color": null,
            "description_width": ""
          }
        },
        "b81f4bbd3c3847ee85211e6c9531afa8": {
          "model_module": "@jupyter-widgets/base",
          "model_name": "LayoutModel",
          "model_module_version": "1.2.0",
          "state": {
            "_model_module": "@jupyter-widgets/base",
            "_model_module_version": "1.2.0",
            "_model_name": "LayoutModel",
            "_view_count": null,
            "_view_module": "@jupyter-widgets/base",
            "_view_module_version": "1.2.0",
            "_view_name": "LayoutView",
            "align_content": null,
            "align_items": null,
            "align_self": null,
            "border": null,
            "bottom": null,
            "display": null,
            "flex": null,
            "flex_flow": null,
            "grid_area": null,
            "grid_auto_columns": null,
            "grid_auto_flow": null,
            "grid_auto_rows": null,
            "grid_column": null,
            "grid_gap": null,
            "grid_row": null,
            "grid_template_areas": null,
            "grid_template_columns": null,
            "grid_template_rows": null,
            "height": null,
            "justify_content": null,
            "justify_items": null,
            "left": null,
            "margin": null,
            "max_height": null,
            "max_width": null,
            "min_height": null,
            "min_width": null,
            "object_fit": null,
            "object_position": null,
            "order": null,
            "overflow": null,
            "overflow_x": null,
            "overflow_y": null,
            "padding": null,
            "right": null,
            "top": null,
            "visibility": null,
            "width": null
          }
        },
        "c52fb373275546ee8dc49961abb946a8": {
          "model_module": "@jupyter-widgets/controls",
          "model_name": "DescriptionStyleModel",
          "model_module_version": "1.5.0",
          "state": {
            "_model_module": "@jupyter-widgets/controls",
            "_model_module_version": "1.5.0",
            "_model_name": "DescriptionStyleModel",
            "_view_count": null,
            "_view_module": "@jupyter-widgets/base",
            "_view_module_version": "1.2.0",
            "_view_name": "StyleView",
            "description_width": ""
          }
        },
        "87ab17039baf43498e0a1369424cc516": {
          "model_module": "@jupyter-widgets/controls",
          "model_name": "HBoxModel",
          "model_module_version": "1.5.0",
          "state": {
            "_dom_classes": [],
            "_model_module": "@jupyter-widgets/controls",
            "_model_module_version": "1.5.0",
            "_model_name": "HBoxModel",
            "_view_count": null,
            "_view_module": "@jupyter-widgets/controls",
            "_view_module_version": "1.5.0",
            "_view_name": "HBoxView",
            "box_style": "",
            "children": [
              "IPY_MODEL_e7fae55be5e24e41a4dd0adc9a8e8d0d",
              "IPY_MODEL_adb372d810094fa3b32f82b865bfea85",
              "IPY_MODEL_edaea4b4d9d64f2694c6cfd80afab03d"
            ],
            "layout": "IPY_MODEL_ee58a7e3d0824f6da10473c27a37fca7"
          }
        },
        "e7fae55be5e24e41a4dd0adc9a8e8d0d": {
          "model_module": "@jupyter-widgets/controls",
          "model_name": "HTMLModel",
          "model_module_version": "1.5.0",
          "state": {
            "_dom_classes": [],
            "_model_module": "@jupyter-widgets/controls",
            "_model_module_version": "1.5.0",
            "_model_name": "HTMLModel",
            "_view_count": null,
            "_view_module": "@jupyter-widgets/controls",
            "_view_module_version": "1.5.0",
            "_view_name": "HTMLView",
            "description": "",
            "description_tooltip": null,
            "layout": "IPY_MODEL_e69c7f3c391144849a9aa20700059b0c",
            "placeholder": "​",
            "style": "IPY_MODEL_a0e99d16628240a8baa39eba25b86959",
            "value": "vocab.txt: 100%"
          }
        },
        "adb372d810094fa3b32f82b865bfea85": {
          "model_module": "@jupyter-widgets/controls",
          "model_name": "FloatProgressModel",
          "model_module_version": "1.5.0",
          "state": {
            "_dom_classes": [],
            "_model_module": "@jupyter-widgets/controls",
            "_model_module_version": "1.5.0",
            "_model_name": "FloatProgressModel",
            "_view_count": null,
            "_view_module": "@jupyter-widgets/controls",
            "_view_module_version": "1.5.0",
            "_view_name": "ProgressView",
            "bar_style": "success",
            "description": "",
            "description_tooltip": null,
            "layout": "IPY_MODEL_cda6ef8ef2064fd38578b1a0b202950d",
            "max": 871891,
            "min": 0,
            "orientation": "horizontal",
            "style": "IPY_MODEL_decda6e924024b0197a09e4c57f5d10c",
            "value": 871891
          }
        },
        "edaea4b4d9d64f2694c6cfd80afab03d": {
          "model_module": "@jupyter-widgets/controls",
          "model_name": "HTMLModel",
          "model_module_version": "1.5.0",
          "state": {
            "_dom_classes": [],
            "_model_module": "@jupyter-widgets/controls",
            "_model_module_version": "1.5.0",
            "_model_name": "HTMLModel",
            "_view_count": null,
            "_view_module": "@jupyter-widgets/controls",
            "_view_module_version": "1.5.0",
            "_view_name": "HTMLView",
            "description": "",
            "description_tooltip": null,
            "layout": "IPY_MODEL_c8eae73a7a1a43b29229d1b7a0dfae69",
            "placeholder": "​",
            "style": "IPY_MODEL_e818731f06ca48ce8c9b2acc39835f8b",
            "value": " 872k/872k [00:01&lt;00:00, 697kB/s]"
          }
        },
        "ee58a7e3d0824f6da10473c27a37fca7": {
          "model_module": "@jupyter-widgets/base",
          "model_name": "LayoutModel",
          "model_module_version": "1.2.0",
          "state": {
            "_model_module": "@jupyter-widgets/base",
            "_model_module_version": "1.2.0",
            "_model_name": "LayoutModel",
            "_view_count": null,
            "_view_module": "@jupyter-widgets/base",
            "_view_module_version": "1.2.0",
            "_view_name": "LayoutView",
            "align_content": null,
            "align_items": null,
            "align_self": null,
            "border": null,
            "bottom": null,
            "display": null,
            "flex": null,
            "flex_flow": null,
            "grid_area": null,
            "grid_auto_columns": null,
            "grid_auto_flow": null,
            "grid_auto_rows": null,
            "grid_column": null,
            "grid_gap": null,
            "grid_row": null,
            "grid_template_areas": null,
            "grid_template_columns": null,
            "grid_template_rows": null,
            "height": null,
            "justify_content": null,
            "justify_items": null,
            "left": null,
            "margin": null,
            "max_height": null,
            "max_width": null,
            "min_height": null,
            "min_width": null,
            "object_fit": null,
            "object_position": null,
            "order": null,
            "overflow": null,
            "overflow_x": null,
            "overflow_y": null,
            "padding": null,
            "right": null,
            "top": null,
            "visibility": null,
            "width": null
          }
        },
        "e69c7f3c391144849a9aa20700059b0c": {
          "model_module": "@jupyter-widgets/base",
          "model_name": "LayoutModel",
          "model_module_version": "1.2.0",
          "state": {
            "_model_module": "@jupyter-widgets/base",
            "_model_module_version": "1.2.0",
            "_model_name": "LayoutModel",
            "_view_count": null,
            "_view_module": "@jupyter-widgets/base",
            "_view_module_version": "1.2.0",
            "_view_name": "LayoutView",
            "align_content": null,
            "align_items": null,
            "align_self": null,
            "border": null,
            "bottom": null,
            "display": null,
            "flex": null,
            "flex_flow": null,
            "grid_area": null,
            "grid_auto_columns": null,
            "grid_auto_flow": null,
            "grid_auto_rows": null,
            "grid_column": null,
            "grid_gap": null,
            "grid_row": null,
            "grid_template_areas": null,
            "grid_template_columns": null,
            "grid_template_rows": null,
            "height": null,
            "justify_content": null,
            "justify_items": null,
            "left": null,
            "margin": null,
            "max_height": null,
            "max_width": null,
            "min_height": null,
            "min_width": null,
            "object_fit": null,
            "object_position": null,
            "order": null,
            "overflow": null,
            "overflow_x": null,
            "overflow_y": null,
            "padding": null,
            "right": null,
            "top": null,
            "visibility": null,
            "width": null
          }
        },
        "a0e99d16628240a8baa39eba25b86959": {
          "model_module": "@jupyter-widgets/controls",
          "model_name": "DescriptionStyleModel",
          "model_module_version": "1.5.0",
          "state": {
            "_model_module": "@jupyter-widgets/controls",
            "_model_module_version": "1.5.0",
            "_model_name": "DescriptionStyleModel",
            "_view_count": null,
            "_view_module": "@jupyter-widgets/base",
            "_view_module_version": "1.2.0",
            "_view_name": "StyleView",
            "description_width": ""
          }
        },
        "cda6ef8ef2064fd38578b1a0b202950d": {
          "model_module": "@jupyter-widgets/base",
          "model_name": "LayoutModel",
          "model_module_version": "1.2.0",
          "state": {
            "_model_module": "@jupyter-widgets/base",
            "_model_module_version": "1.2.0",
            "_model_name": "LayoutModel",
            "_view_count": null,
            "_view_module": "@jupyter-widgets/base",
            "_view_module_version": "1.2.0",
            "_view_name": "LayoutView",
            "align_content": null,
            "align_items": null,
            "align_self": null,
            "border": null,
            "bottom": null,
            "display": null,
            "flex": null,
            "flex_flow": null,
            "grid_area": null,
            "grid_auto_columns": null,
            "grid_auto_flow": null,
            "grid_auto_rows": null,
            "grid_column": null,
            "grid_gap": null,
            "grid_row": null,
            "grid_template_areas": null,
            "grid_template_columns": null,
            "grid_template_rows": null,
            "height": null,
            "justify_content": null,
            "justify_items": null,
            "left": null,
            "margin": null,
            "max_height": null,
            "max_width": null,
            "min_height": null,
            "min_width": null,
            "object_fit": null,
            "object_position": null,
            "order": null,
            "overflow": null,
            "overflow_x": null,
            "overflow_y": null,
            "padding": null,
            "right": null,
            "top": null,
            "visibility": null,
            "width": null
          }
        },
        "decda6e924024b0197a09e4c57f5d10c": {
          "model_module": "@jupyter-widgets/controls",
          "model_name": "ProgressStyleModel",
          "model_module_version": "1.5.0",
          "state": {
            "_model_module": "@jupyter-widgets/controls",
            "_model_module_version": "1.5.0",
            "_model_name": "ProgressStyleModel",
            "_view_count": null,
            "_view_module": "@jupyter-widgets/base",
            "_view_module_version": "1.2.0",
            "_view_name": "StyleView",
            "bar_color": null,
            "description_width": ""
          }
        },
        "c8eae73a7a1a43b29229d1b7a0dfae69": {
          "model_module": "@jupyter-widgets/base",
          "model_name": "LayoutModel",
          "model_module_version": "1.2.0",
          "state": {
            "_model_module": "@jupyter-widgets/base",
            "_model_module_version": "1.2.0",
            "_model_name": "LayoutModel",
            "_view_count": null,
            "_view_module": "@jupyter-widgets/base",
            "_view_module_version": "1.2.0",
            "_view_name": "LayoutView",
            "align_content": null,
            "align_items": null,
            "align_self": null,
            "border": null,
            "bottom": null,
            "display": null,
            "flex": null,
            "flex_flow": null,
            "grid_area": null,
            "grid_auto_columns": null,
            "grid_auto_flow": null,
            "grid_auto_rows": null,
            "grid_column": null,
            "grid_gap": null,
            "grid_row": null,
            "grid_template_areas": null,
            "grid_template_columns": null,
            "grid_template_rows": null,
            "height": null,
            "justify_content": null,
            "justify_items": null,
            "left": null,
            "margin": null,
            "max_height": null,
            "max_width": null,
            "min_height": null,
            "min_width": null,
            "object_fit": null,
            "object_position": null,
            "order": null,
            "overflow": null,
            "overflow_x": null,
            "overflow_y": null,
            "padding": null,
            "right": null,
            "top": null,
            "visibility": null,
            "width": null
          }
        },
        "e818731f06ca48ce8c9b2acc39835f8b": {
          "model_module": "@jupyter-widgets/controls",
          "model_name": "DescriptionStyleModel",
          "model_module_version": "1.5.0",
          "state": {
            "_model_module": "@jupyter-widgets/controls",
            "_model_module_version": "1.5.0",
            "_model_name": "DescriptionStyleModel",
            "_view_count": null,
            "_view_module": "@jupyter-widgets/base",
            "_view_module_version": "1.2.0",
            "_view_name": "StyleView",
            "description_width": ""
          }
        },
        "b0906ef7b743411ca6f9aef06811c8a2": {
          "model_module": "@jupyter-widgets/controls",
          "model_name": "HBoxModel",
          "model_module_version": "1.5.0",
          "state": {
            "_dom_classes": [],
            "_model_module": "@jupyter-widgets/controls",
            "_model_module_version": "1.5.0",
            "_model_name": "HBoxModel",
            "_view_count": null,
            "_view_module": "@jupyter-widgets/controls",
            "_view_module_version": "1.5.0",
            "_view_name": "HBoxView",
            "box_style": "",
            "children": [
              "IPY_MODEL_dabcb48053834e56beeb75a2f7c3e8a9",
              "IPY_MODEL_a26061819a8e4f9a857b09934dc9e72b",
              "IPY_MODEL_77d76cdd502e4c37b933f443f9b52df1"
            ],
            "layout": "IPY_MODEL_8dafebaecf674c328eb832b7813bfdfd"
          }
        },
        "dabcb48053834e56beeb75a2f7c3e8a9": {
          "model_module": "@jupyter-widgets/controls",
          "model_name": "HTMLModel",
          "model_module_version": "1.5.0",
          "state": {
            "_dom_classes": [],
            "_model_module": "@jupyter-widgets/controls",
            "_model_module_version": "1.5.0",
            "_model_name": "HTMLModel",
            "_view_count": null,
            "_view_module": "@jupyter-widgets/controls",
            "_view_module_version": "1.5.0",
            "_view_name": "HTMLView",
            "description": "",
            "description_tooltip": null,
            "layout": "IPY_MODEL_618f2e907ec14b74ae201f1ef28af526",
            "placeholder": "​",
            "style": "IPY_MODEL_31cf7373815b4e46a6d524cf67f2d1a5",
            "value": "special_tokens_map.json: 100%"
          }
        },
        "a26061819a8e4f9a857b09934dc9e72b": {
          "model_module": "@jupyter-widgets/controls",
          "model_name": "FloatProgressModel",
          "model_module_version": "1.5.0",
          "state": {
            "_dom_classes": [],
            "_model_module": "@jupyter-widgets/controls",
            "_model_module_version": "1.5.0",
            "_model_name": "FloatProgressModel",
            "_view_count": null,
            "_view_module": "@jupyter-widgets/controls",
            "_view_module_version": "1.5.0",
            "_view_name": "ProgressView",
            "bar_style": "success",
            "description": "",
            "description_tooltip": null,
            "layout": "IPY_MODEL_7e3086c496504921bd04cb025198eeb3",
            "max": 112,
            "min": 0,
            "orientation": "horizontal",
            "style": "IPY_MODEL_b41173452a5f4645b2f5354588cf0882",
            "value": 112
          }
        },
        "77d76cdd502e4c37b933f443f9b52df1": {
          "model_module": "@jupyter-widgets/controls",
          "model_name": "HTMLModel",
          "model_module_version": "1.5.0",
          "state": {
            "_dom_classes": [],
            "_model_module": "@jupyter-widgets/controls",
            "_model_module_version": "1.5.0",
            "_model_name": "HTMLModel",
            "_view_count": null,
            "_view_module": "@jupyter-widgets/controls",
            "_view_module_version": "1.5.0",
            "_view_name": "HTMLView",
            "description": "",
            "description_tooltip": null,
            "layout": "IPY_MODEL_3e33b1b2f58b4ab0b75d92e1f3665ea1",
            "placeholder": "​",
            "style": "IPY_MODEL_e0b281db5ed845bea863437fc9a6d21a",
            "value": " 112/112 [00:00&lt;00:00, 6.68kB/s]"
          }
        },
        "8dafebaecf674c328eb832b7813bfdfd": {
          "model_module": "@jupyter-widgets/base",
          "model_name": "LayoutModel",
          "model_module_version": "1.2.0",
          "state": {
            "_model_module": "@jupyter-widgets/base",
            "_model_module_version": "1.2.0",
            "_model_name": "LayoutModel",
            "_view_count": null,
            "_view_module": "@jupyter-widgets/base",
            "_view_module_version": "1.2.0",
            "_view_name": "LayoutView",
            "align_content": null,
            "align_items": null,
            "align_self": null,
            "border": null,
            "bottom": null,
            "display": null,
            "flex": null,
            "flex_flow": null,
            "grid_area": null,
            "grid_auto_columns": null,
            "grid_auto_flow": null,
            "grid_auto_rows": null,
            "grid_column": null,
            "grid_gap": null,
            "grid_row": null,
            "grid_template_areas": null,
            "grid_template_columns": null,
            "grid_template_rows": null,
            "height": null,
            "justify_content": null,
            "justify_items": null,
            "left": null,
            "margin": null,
            "max_height": null,
            "max_width": null,
            "min_height": null,
            "min_width": null,
            "object_fit": null,
            "object_position": null,
            "order": null,
            "overflow": null,
            "overflow_x": null,
            "overflow_y": null,
            "padding": null,
            "right": null,
            "top": null,
            "visibility": null,
            "width": null
          }
        },
        "618f2e907ec14b74ae201f1ef28af526": {
          "model_module": "@jupyter-widgets/base",
          "model_name": "LayoutModel",
          "model_module_version": "1.2.0",
          "state": {
            "_model_module": "@jupyter-widgets/base",
            "_model_module_version": "1.2.0",
            "_model_name": "LayoutModel",
            "_view_count": null,
            "_view_module": "@jupyter-widgets/base",
            "_view_module_version": "1.2.0",
            "_view_name": "LayoutView",
            "align_content": null,
            "align_items": null,
            "align_self": null,
            "border": null,
            "bottom": null,
            "display": null,
            "flex": null,
            "flex_flow": null,
            "grid_area": null,
            "grid_auto_columns": null,
            "grid_auto_flow": null,
            "grid_auto_rows": null,
            "grid_column": null,
            "grid_gap": null,
            "grid_row": null,
            "grid_template_areas": null,
            "grid_template_columns": null,
            "grid_template_rows": null,
            "height": null,
            "justify_content": null,
            "justify_items": null,
            "left": null,
            "margin": null,
            "max_height": null,
            "max_width": null,
            "min_height": null,
            "min_width": null,
            "object_fit": null,
            "object_position": null,
            "order": null,
            "overflow": null,
            "overflow_x": null,
            "overflow_y": null,
            "padding": null,
            "right": null,
            "top": null,
            "visibility": null,
            "width": null
          }
        },
        "31cf7373815b4e46a6d524cf67f2d1a5": {
          "model_module": "@jupyter-widgets/controls",
          "model_name": "DescriptionStyleModel",
          "model_module_version": "1.5.0",
          "state": {
            "_model_module": "@jupyter-widgets/controls",
            "_model_module_version": "1.5.0",
            "_model_name": "DescriptionStyleModel",
            "_view_count": null,
            "_view_module": "@jupyter-widgets/base",
            "_view_module_version": "1.2.0",
            "_view_name": "StyleView",
            "description_width": ""
          }
        },
        "7e3086c496504921bd04cb025198eeb3": {
          "model_module": "@jupyter-widgets/base",
          "model_name": "LayoutModel",
          "model_module_version": "1.2.0",
          "state": {
            "_model_module": "@jupyter-widgets/base",
            "_model_module_version": "1.2.0",
            "_model_name": "LayoutModel",
            "_view_count": null,
            "_view_module": "@jupyter-widgets/base",
            "_view_module_version": "1.2.0",
            "_view_name": "LayoutView",
            "align_content": null,
            "align_items": null,
            "align_self": null,
            "border": null,
            "bottom": null,
            "display": null,
            "flex": null,
            "flex_flow": null,
            "grid_area": null,
            "grid_auto_columns": null,
            "grid_auto_flow": null,
            "grid_auto_rows": null,
            "grid_column": null,
            "grid_gap": null,
            "grid_row": null,
            "grid_template_areas": null,
            "grid_template_columns": null,
            "grid_template_rows": null,
            "height": null,
            "justify_content": null,
            "justify_items": null,
            "left": null,
            "margin": null,
            "max_height": null,
            "max_width": null,
            "min_height": null,
            "min_width": null,
            "object_fit": null,
            "object_position": null,
            "order": null,
            "overflow": null,
            "overflow_x": null,
            "overflow_y": null,
            "padding": null,
            "right": null,
            "top": null,
            "visibility": null,
            "width": null
          }
        },
        "b41173452a5f4645b2f5354588cf0882": {
          "model_module": "@jupyter-widgets/controls",
          "model_name": "ProgressStyleModel",
          "model_module_version": "1.5.0",
          "state": {
            "_model_module": "@jupyter-widgets/controls",
            "_model_module_version": "1.5.0",
            "_model_name": "ProgressStyleModel",
            "_view_count": null,
            "_view_module": "@jupyter-widgets/base",
            "_view_module_version": "1.2.0",
            "_view_name": "StyleView",
            "bar_color": null,
            "description_width": ""
          }
        },
        "3e33b1b2f58b4ab0b75d92e1f3665ea1": {
          "model_module": "@jupyter-widgets/base",
          "model_name": "LayoutModel",
          "model_module_version": "1.2.0",
          "state": {
            "_model_module": "@jupyter-widgets/base",
            "_model_module_version": "1.2.0",
            "_model_name": "LayoutModel",
            "_view_count": null,
            "_view_module": "@jupyter-widgets/base",
            "_view_module_version": "1.2.0",
            "_view_name": "LayoutView",
            "align_content": null,
            "align_items": null,
            "align_self": null,
            "border": null,
            "bottom": null,
            "display": null,
            "flex": null,
            "flex_flow": null,
            "grid_area": null,
            "grid_auto_columns": null,
            "grid_auto_flow": null,
            "grid_auto_rows": null,
            "grid_column": null,
            "grid_gap": null,
            "grid_row": null,
            "grid_template_areas": null,
            "grid_template_columns": null,
            "grid_template_rows": null,
            "height": null,
            "justify_content": null,
            "justify_items": null,
            "left": null,
            "margin": null,
            "max_height": null,
            "max_width": null,
            "min_height": null,
            "min_width": null,
            "object_fit": null,
            "object_position": null,
            "order": null,
            "overflow": null,
            "overflow_x": null,
            "overflow_y": null,
            "padding": null,
            "right": null,
            "top": null,
            "visibility": null,
            "width": null
          }
        },
        "e0b281db5ed845bea863437fc9a6d21a": {
          "model_module": "@jupyter-widgets/controls",
          "model_name": "DescriptionStyleModel",
          "model_module_version": "1.5.0",
          "state": {
            "_model_module": "@jupyter-widgets/controls",
            "_model_module_version": "1.5.0",
            "_model_name": "DescriptionStyleModel",
            "_view_count": null,
            "_view_module": "@jupyter-widgets/base",
            "_view_module_version": "1.2.0",
            "_view_name": "StyleView",
            "description_width": ""
          }
        },
        "5612b95fb2ee4dcc995ec5e25bea7fa2": {
          "model_module": "@jupyter-widgets/controls",
          "model_name": "HBoxModel",
          "model_module_version": "1.5.0",
          "state": {
            "_dom_classes": [],
            "_model_module": "@jupyter-widgets/controls",
            "_model_module_version": "1.5.0",
            "_model_name": "HBoxModel",
            "_view_count": null,
            "_view_module": "@jupyter-widgets/controls",
            "_view_module_version": "1.5.0",
            "_view_name": "HBoxView",
            "box_style": "",
            "children": [
              "IPY_MODEL_2a01682053464f5f97f6214d83b9f122",
              "IPY_MODEL_3322b4ec65e745a49e5cd9d0b0bad0ce",
              "IPY_MODEL_bad30a32880f4a6e8854a1735a1112bf"
            ],
            "layout": "IPY_MODEL_772bf7fb8784478daaf0c45ee27d79f5"
          }
        },
        "2a01682053464f5f97f6214d83b9f122": {
          "model_module": "@jupyter-widgets/controls",
          "model_name": "HTMLModel",
          "model_module_version": "1.5.0",
          "state": {
            "_dom_classes": [],
            "_model_module": "@jupyter-widgets/controls",
            "_model_module_version": "1.5.0",
            "_model_name": "HTMLModel",
            "_view_count": null,
            "_view_module": "@jupyter-widgets/controls",
            "_view_module_version": "1.5.0",
            "_view_name": "HTMLView",
            "description": "",
            "description_tooltip": null,
            "layout": "IPY_MODEL_b33eb83e011c4a11a09599d144b4ebce",
            "placeholder": "​",
            "style": "IPY_MODEL_ea627385d8b748418714446dc6a265b8",
            "value": "pytorch_model.bin: 100%"
          }
        },
        "3322b4ec65e745a49e5cd9d0b0bad0ce": {
          "model_module": "@jupyter-widgets/controls",
          "model_name": "FloatProgressModel",
          "model_module_version": "1.5.0",
          "state": {
            "_dom_classes": [],
            "_model_module": "@jupyter-widgets/controls",
            "_model_module_version": "1.5.0",
            "_model_name": "FloatProgressModel",
            "_view_count": null,
            "_view_module": "@jupyter-widgets/controls",
            "_view_module_version": "1.5.0",
            "_view_name": "ProgressView",
            "bar_style": "success",
            "description": "",
            "description_tooltip": null,
            "layout": "IPY_MODEL_55554c94216145718da6baa7d968511e",
            "max": 669482093,
            "min": 0,
            "orientation": "horizontal",
            "style": "IPY_MODEL_ade4d6c674534204afeef8fc11c48c45",
            "value": 669482093
          }
        },
        "bad30a32880f4a6e8854a1735a1112bf": {
          "model_module": "@jupyter-widgets/controls",
          "model_name": "HTMLModel",
          "model_module_version": "1.5.0",
          "state": {
            "_dom_classes": [],
            "_model_module": "@jupyter-widgets/controls",
            "_model_module_version": "1.5.0",
            "_model_name": "HTMLModel",
            "_view_count": null,
            "_view_module": "@jupyter-widgets/controls",
            "_view_module_version": "1.5.0",
            "_view_name": "HTMLView",
            "description": "",
            "description_tooltip": null,
            "layout": "IPY_MODEL_3b83ef36d9b34c499c5ec4f58e5cd039",
            "placeholder": "​",
            "style": "IPY_MODEL_6a622c7c8b6a4a3bb81566bf05e91e20",
            "value": " 669M/669M [00:09&lt;00:00, 86.4MB/s]"
          }
        },
        "772bf7fb8784478daaf0c45ee27d79f5": {
          "model_module": "@jupyter-widgets/base",
          "model_name": "LayoutModel",
          "model_module_version": "1.2.0",
          "state": {
            "_model_module": "@jupyter-widgets/base",
            "_model_module_version": "1.2.0",
            "_model_name": "LayoutModel",
            "_view_count": null,
            "_view_module": "@jupyter-widgets/base",
            "_view_module_version": "1.2.0",
            "_view_name": "LayoutView",
            "align_content": null,
            "align_items": null,
            "align_self": null,
            "border": null,
            "bottom": null,
            "display": null,
            "flex": null,
            "flex_flow": null,
            "grid_area": null,
            "grid_auto_columns": null,
            "grid_auto_flow": null,
            "grid_auto_rows": null,
            "grid_column": null,
            "grid_gap": null,
            "grid_row": null,
            "grid_template_areas": null,
            "grid_template_columns": null,
            "grid_template_rows": null,
            "height": null,
            "justify_content": null,
            "justify_items": null,
            "left": null,
            "margin": null,
            "max_height": null,
            "max_width": null,
            "min_height": null,
            "min_width": null,
            "object_fit": null,
            "object_position": null,
            "order": null,
            "overflow": null,
            "overflow_x": null,
            "overflow_y": null,
            "padding": null,
            "right": null,
            "top": null,
            "visibility": null,
            "width": null
          }
        },
        "b33eb83e011c4a11a09599d144b4ebce": {
          "model_module": "@jupyter-widgets/base",
          "model_name": "LayoutModel",
          "model_module_version": "1.2.0",
          "state": {
            "_model_module": "@jupyter-widgets/base",
            "_model_module_version": "1.2.0",
            "_model_name": "LayoutModel",
            "_view_count": null,
            "_view_module": "@jupyter-widgets/base",
            "_view_module_version": "1.2.0",
            "_view_name": "LayoutView",
            "align_content": null,
            "align_items": null,
            "align_self": null,
            "border": null,
            "bottom": null,
            "display": null,
            "flex": null,
            "flex_flow": null,
            "grid_area": null,
            "grid_auto_columns": null,
            "grid_auto_flow": null,
            "grid_auto_rows": null,
            "grid_column": null,
            "grid_gap": null,
            "grid_row": null,
            "grid_template_areas": null,
            "grid_template_columns": null,
            "grid_template_rows": null,
            "height": null,
            "justify_content": null,
            "justify_items": null,
            "left": null,
            "margin": null,
            "max_height": null,
            "max_width": null,
            "min_height": null,
            "min_width": null,
            "object_fit": null,
            "object_position": null,
            "order": null,
            "overflow": null,
            "overflow_x": null,
            "overflow_y": null,
            "padding": null,
            "right": null,
            "top": null,
            "visibility": null,
            "width": null
          }
        },
        "ea627385d8b748418714446dc6a265b8": {
          "model_module": "@jupyter-widgets/controls",
          "model_name": "DescriptionStyleModel",
          "model_module_version": "1.5.0",
          "state": {
            "_model_module": "@jupyter-widgets/controls",
            "_model_module_version": "1.5.0",
            "_model_name": "DescriptionStyleModel",
            "_view_count": null,
            "_view_module": "@jupyter-widgets/base",
            "_view_module_version": "1.2.0",
            "_view_name": "StyleView",
            "description_width": ""
          }
        },
        "55554c94216145718da6baa7d968511e": {
          "model_module": "@jupyter-widgets/base",
          "model_name": "LayoutModel",
          "model_module_version": "1.2.0",
          "state": {
            "_model_module": "@jupyter-widgets/base",
            "_model_module_version": "1.2.0",
            "_model_name": "LayoutModel",
            "_view_count": null,
            "_view_module": "@jupyter-widgets/base",
            "_view_module_version": "1.2.0",
            "_view_name": "LayoutView",
            "align_content": null,
            "align_items": null,
            "align_self": null,
            "border": null,
            "bottom": null,
            "display": null,
            "flex": null,
            "flex_flow": null,
            "grid_area": null,
            "grid_auto_columns": null,
            "grid_auto_flow": null,
            "grid_auto_rows": null,
            "grid_column": null,
            "grid_gap": null,
            "grid_row": null,
            "grid_template_areas": null,
            "grid_template_columns": null,
            "grid_template_rows": null,
            "height": null,
            "justify_content": null,
            "justify_items": null,
            "left": null,
            "margin": null,
            "max_height": null,
            "max_width": null,
            "min_height": null,
            "min_width": null,
            "object_fit": null,
            "object_position": null,
            "order": null,
            "overflow": null,
            "overflow_x": null,
            "overflow_y": null,
            "padding": null,
            "right": null,
            "top": null,
            "visibility": null,
            "width": null
          }
        },
        "ade4d6c674534204afeef8fc11c48c45": {
          "model_module": "@jupyter-widgets/controls",
          "model_name": "ProgressStyleModel",
          "model_module_version": "1.5.0",
          "state": {
            "_model_module": "@jupyter-widgets/controls",
            "_model_module_version": "1.5.0",
            "_model_name": "ProgressStyleModel",
            "_view_count": null,
            "_view_module": "@jupyter-widgets/base",
            "_view_module_version": "1.2.0",
            "_view_name": "StyleView",
            "bar_color": null,
            "description_width": ""
          }
        },
        "3b83ef36d9b34c499c5ec4f58e5cd039": {
          "model_module": "@jupyter-widgets/base",
          "model_name": "LayoutModel",
          "model_module_version": "1.2.0",
          "state": {
            "_model_module": "@jupyter-widgets/base",
            "_model_module_version": "1.2.0",
            "_model_name": "LayoutModel",
            "_view_count": null,
            "_view_module": "@jupyter-widgets/base",
            "_view_module_version": "1.2.0",
            "_view_name": "LayoutView",
            "align_content": null,
            "align_items": null,
            "align_self": null,
            "border": null,
            "bottom": null,
            "display": null,
            "flex": null,
            "flex_flow": null,
            "grid_area": null,
            "grid_auto_columns": null,
            "grid_auto_flow": null,
            "grid_auto_rows": null,
            "grid_column": null,
            "grid_gap": null,
            "grid_row": null,
            "grid_template_areas": null,
            "grid_template_columns": null,
            "grid_template_rows": null,
            "height": null,
            "justify_content": null,
            "justify_items": null,
            "left": null,
            "margin": null,
            "max_height": null,
            "max_width": null,
            "min_height": null,
            "min_width": null,
            "object_fit": null,
            "object_position": null,
            "order": null,
            "overflow": null,
            "overflow_x": null,
            "overflow_y": null,
            "padding": null,
            "right": null,
            "top": null,
            "visibility": null,
            "width": null
          }
        },
        "6a622c7c8b6a4a3bb81566bf05e91e20": {
          "model_module": "@jupyter-widgets/controls",
          "model_name": "DescriptionStyleModel",
          "model_module_version": "1.5.0",
          "state": {
            "_model_module": "@jupyter-widgets/controls",
            "_model_module_version": "1.5.0",
            "_model_name": "DescriptionStyleModel",
            "_view_count": null,
            "_view_module": "@jupyter-widgets/base",
            "_view_module_version": "1.2.0",
            "_view_name": "StyleView",
            "description_width": ""
          }
        },
        "e28906193d474891ad212a4919e078f9": {
          "model_module": "@jupyter-widgets/controls",
          "model_name": "HBoxModel",
          "model_module_version": "1.5.0",
          "state": {
            "_dom_classes": [],
            "_model_module": "@jupyter-widgets/controls",
            "_model_module_version": "1.5.0",
            "_model_name": "HBoxModel",
            "_view_count": null,
            "_view_module": "@jupyter-widgets/controls",
            "_view_module_version": "1.5.0",
            "_view_name": "HBoxView",
            "box_style": "",
            "children": [
              "IPY_MODEL_6b3ad1866a684fdcbfcf3c1ef7df9f26",
              "IPY_MODEL_8795c3e9c9284752b72122fbd6b7c006",
              "IPY_MODEL_ec3c92af41f9457ba7ea09a07ce1d6cd"
            ],
            "layout": "IPY_MODEL_683eaebf6e3845e593357f98e67d5703"
          }
        },
        "6b3ad1866a684fdcbfcf3c1ef7df9f26": {
          "model_module": "@jupyter-widgets/controls",
          "model_name": "HTMLModel",
          "model_module_version": "1.5.0",
          "state": {
            "_dom_classes": [],
            "_model_module": "@jupyter-widgets/controls",
            "_model_module_version": "1.5.0",
            "_model_name": "HTMLModel",
            "_view_count": null,
            "_view_module": "@jupyter-widgets/controls",
            "_view_module_version": "1.5.0",
            "_view_name": "HTMLView",
            "description": "",
            "description_tooltip": null,
            "layout": "IPY_MODEL_4f64f0317c764474ace3611a3e0353dd",
            "placeholder": "​",
            "style": "IPY_MODEL_aaeaa2da7ef24ca99a7702de85045a60",
            "value": "model.safetensors: 100%"
          }
        },
        "8795c3e9c9284752b72122fbd6b7c006": {
          "model_module": "@jupyter-widgets/controls",
          "model_name": "FloatProgressModel",
          "model_module_version": "1.5.0",
          "state": {
            "_dom_classes": [],
            "_model_module": "@jupyter-widgets/controls",
            "_model_module_version": "1.5.0",
            "_model_name": "FloatProgressModel",
            "_view_count": null,
            "_view_module": "@jupyter-widgets/controls",
            "_view_module_version": "1.5.0",
            "_view_name": "ProgressView",
            "bar_style": "success",
            "description": "",
            "description_tooltip": null,
            "layout": "IPY_MODEL_113a86a3c94b43da896d62b7541cb68a",
            "max": 669455366,
            "min": 0,
            "orientation": "horizontal",
            "style": "IPY_MODEL_932ceff1cc2849bd8847bf0ded1f83af",
            "value": 669455366
          }
        },
        "ec3c92af41f9457ba7ea09a07ce1d6cd": {
          "model_module": "@jupyter-widgets/controls",
          "model_name": "HTMLModel",
          "model_module_version": "1.5.0",
          "state": {
            "_dom_classes": [],
            "_model_module": "@jupyter-widgets/controls",
            "_model_module_version": "1.5.0",
            "_model_name": "HTMLModel",
            "_view_count": null,
            "_view_module": "@jupyter-widgets/controls",
            "_view_module_version": "1.5.0",
            "_view_name": "HTMLView",
            "description": "",
            "description_tooltip": null,
            "layout": "IPY_MODEL_b3d216f84cc448498cea21353bb50403",
            "placeholder": "​",
            "style": "IPY_MODEL_3ed0ec6cd1c540ff8b2196725551ca6f",
            "value": " 669M/669M [00:06&lt;00:00, 145MB/s]"
          }
        },
        "683eaebf6e3845e593357f98e67d5703": {
          "model_module": "@jupyter-widgets/base",
          "model_name": "LayoutModel",
          "model_module_version": "1.2.0",
          "state": {
            "_model_module": "@jupyter-widgets/base",
            "_model_module_version": "1.2.0",
            "_model_name": "LayoutModel",
            "_view_count": null,
            "_view_module": "@jupyter-widgets/base",
            "_view_module_version": "1.2.0",
            "_view_name": "LayoutView",
            "align_content": null,
            "align_items": null,
            "align_self": null,
            "border": null,
            "bottom": null,
            "display": null,
            "flex": null,
            "flex_flow": null,
            "grid_area": null,
            "grid_auto_columns": null,
            "grid_auto_flow": null,
            "grid_auto_rows": null,
            "grid_column": null,
            "grid_gap": null,
            "grid_row": null,
            "grid_template_areas": null,
            "grid_template_columns": null,
            "grid_template_rows": null,
            "height": null,
            "justify_content": null,
            "justify_items": null,
            "left": null,
            "margin": null,
            "max_height": null,
            "max_width": null,
            "min_height": null,
            "min_width": null,
            "object_fit": null,
            "object_position": null,
            "order": null,
            "overflow": null,
            "overflow_x": null,
            "overflow_y": null,
            "padding": null,
            "right": null,
            "top": null,
            "visibility": null,
            "width": null
          }
        },
        "4f64f0317c764474ace3611a3e0353dd": {
          "model_module": "@jupyter-widgets/base",
          "model_name": "LayoutModel",
          "model_module_version": "1.2.0",
          "state": {
            "_model_module": "@jupyter-widgets/base",
            "_model_module_version": "1.2.0",
            "_model_name": "LayoutModel",
            "_view_count": null,
            "_view_module": "@jupyter-widgets/base",
            "_view_module_version": "1.2.0",
            "_view_name": "LayoutView",
            "align_content": null,
            "align_items": null,
            "align_self": null,
            "border": null,
            "bottom": null,
            "display": null,
            "flex": null,
            "flex_flow": null,
            "grid_area": null,
            "grid_auto_columns": null,
            "grid_auto_flow": null,
            "grid_auto_rows": null,
            "grid_column": null,
            "grid_gap": null,
            "grid_row": null,
            "grid_template_areas": null,
            "grid_template_columns": null,
            "grid_template_rows": null,
            "height": null,
            "justify_content": null,
            "justify_items": null,
            "left": null,
            "margin": null,
            "max_height": null,
            "max_width": null,
            "min_height": null,
            "min_width": null,
            "object_fit": null,
            "object_position": null,
            "order": null,
            "overflow": null,
            "overflow_x": null,
            "overflow_y": null,
            "padding": null,
            "right": null,
            "top": null,
            "visibility": null,
            "width": null
          }
        },
        "aaeaa2da7ef24ca99a7702de85045a60": {
          "model_module": "@jupyter-widgets/controls",
          "model_name": "DescriptionStyleModel",
          "model_module_version": "1.5.0",
          "state": {
            "_model_module": "@jupyter-widgets/controls",
            "_model_module_version": "1.5.0",
            "_model_name": "DescriptionStyleModel",
            "_view_count": null,
            "_view_module": "@jupyter-widgets/base",
            "_view_module_version": "1.2.0",
            "_view_name": "StyleView",
            "description_width": ""
          }
        },
        "113a86a3c94b43da896d62b7541cb68a": {
          "model_module": "@jupyter-widgets/base",
          "model_name": "LayoutModel",
          "model_module_version": "1.2.0",
          "state": {
            "_model_module": "@jupyter-widgets/base",
            "_model_module_version": "1.2.0",
            "_model_name": "LayoutModel",
            "_view_count": null,
            "_view_module": "@jupyter-widgets/base",
            "_view_module_version": "1.2.0",
            "_view_name": "LayoutView",
            "align_content": null,
            "align_items": null,
            "align_self": null,
            "border": null,
            "bottom": null,
            "display": null,
            "flex": null,
            "flex_flow": null,
            "grid_area": null,
            "grid_auto_columns": null,
            "grid_auto_flow": null,
            "grid_auto_rows": null,
            "grid_column": null,
            "grid_gap": null,
            "grid_row": null,
            "grid_template_areas": null,
            "grid_template_columns": null,
            "grid_template_rows": null,
            "height": null,
            "justify_content": null,
            "justify_items": null,
            "left": null,
            "margin": null,
            "max_height": null,
            "max_width": null,
            "min_height": null,
            "min_width": null,
            "object_fit": null,
            "object_position": null,
            "order": null,
            "overflow": null,
            "overflow_x": null,
            "overflow_y": null,
            "padding": null,
            "right": null,
            "top": null,
            "visibility": null,
            "width": null
          }
        },
        "932ceff1cc2849bd8847bf0ded1f83af": {
          "model_module": "@jupyter-widgets/controls",
          "model_name": "ProgressStyleModel",
          "model_module_version": "1.5.0",
          "state": {
            "_model_module": "@jupyter-widgets/controls",
            "_model_module_version": "1.5.0",
            "_model_name": "ProgressStyleModel",
            "_view_count": null,
            "_view_module": "@jupyter-widgets/base",
            "_view_module_version": "1.2.0",
            "_view_name": "StyleView",
            "bar_color": null,
            "description_width": ""
          }
        },
        "b3d216f84cc448498cea21353bb50403": {
          "model_module": "@jupyter-widgets/base",
          "model_name": "LayoutModel",
          "model_module_version": "1.2.0",
          "state": {
            "_model_module": "@jupyter-widgets/base",
            "_model_module_version": "1.2.0",
            "_model_name": "LayoutModel",
            "_view_count": null,
            "_view_module": "@jupyter-widgets/base",
            "_view_module_version": "1.2.0",
            "_view_name": "LayoutView",
            "align_content": null,
            "align_items": null,
            "align_self": null,
            "border": null,
            "bottom": null,
            "display": null,
            "flex": null,
            "flex_flow": null,
            "grid_area": null,
            "grid_auto_columns": null,
            "grid_auto_flow": null,
            "grid_auto_rows": null,
            "grid_column": null,
            "grid_gap": null,
            "grid_row": null,
            "grid_template_areas": null,
            "grid_template_columns": null,
            "grid_template_rows": null,
            "height": null,
            "justify_content": null,
            "justify_items": null,
            "left": null,
            "margin": null,
            "max_height": null,
            "max_width": null,
            "min_height": null,
            "min_width": null,
            "object_fit": null,
            "object_position": null,
            "order": null,
            "overflow": null,
            "overflow_x": null,
            "overflow_y": null,
            "padding": null,
            "right": null,
            "top": null,
            "visibility": null,
            "width": null
          }
        },
        "3ed0ec6cd1c540ff8b2196725551ca6f": {
          "model_module": "@jupyter-widgets/controls",
          "model_name": "DescriptionStyleModel",
          "model_module_version": "1.5.0",
          "state": {
            "_model_module": "@jupyter-widgets/controls",
            "_model_module_version": "1.5.0",
            "_model_name": "DescriptionStyleModel",
            "_view_count": null,
            "_view_module": "@jupyter-widgets/base",
            "_view_module_version": "1.2.0",
            "_view_name": "StyleView",
            "description_width": ""
          }
        },
        "2071d20728814d008cc9977a7fe55d5c": {
          "model_module": "@jupyter-widgets/controls",
          "model_name": "TextareaModel",
          "model_module_version": "1.5.0",
          "state": {
            "_dom_classes": [],
            "_model_module": "@jupyter-widgets/controls",
            "_model_module_version": "1.5.0",
            "_model_name": "TextareaModel",
            "_view_count": null,
            "_view_module": "@jupyter-widgets/controls",
            "_view_module_version": "1.5.0",
            "_view_name": "TextareaView",
            "continuous_update": true,
            "description": "Input:",
            "description_tooltip": null,
            "disabled": false,
            "layout": "IPY_MODEL_22ad98f0c68d4ea18935209c7e5bfd1f",
            "placeholder": "Type a tweet or sentence here...",
            "rows": null,
            "style": "IPY_MODEL_8e498231f4404051a490efd46ca997c5",
            "value": "I do not fast for Ramadan because I am not Muslim."
          }
        },
        "22ad98f0c68d4ea18935209c7e5bfd1f": {
          "model_module": "@jupyter-widgets/base",
          "model_name": "LayoutModel",
          "model_module_version": "1.2.0",
          "state": {
            "_model_module": "@jupyter-widgets/base",
            "_model_module_version": "1.2.0",
            "_model_name": "LayoutModel",
            "_view_count": null,
            "_view_module": "@jupyter-widgets/base",
            "_view_module_version": "1.2.0",
            "_view_name": "LayoutView",
            "align_content": null,
            "align_items": null,
            "align_self": null,
            "border": null,
            "bottom": null,
            "display": null,
            "flex": null,
            "flex_flow": null,
            "grid_area": null,
            "grid_auto_columns": null,
            "grid_auto_flow": null,
            "grid_auto_rows": null,
            "grid_column": null,
            "grid_gap": null,
            "grid_row": null,
            "grid_template_areas": null,
            "grid_template_columns": null,
            "grid_template_rows": null,
            "height": "100px",
            "justify_content": null,
            "justify_items": null,
            "left": null,
            "margin": null,
            "max_height": null,
            "max_width": null,
            "min_height": null,
            "min_width": null,
            "object_fit": null,
            "object_position": null,
            "order": null,
            "overflow": null,
            "overflow_x": null,
            "overflow_y": null,
            "padding": null,
            "right": null,
            "top": null,
            "visibility": null,
            "width": "100%"
          }
        },
        "8e498231f4404051a490efd46ca997c5": {
          "model_module": "@jupyter-widgets/controls",
          "model_name": "DescriptionStyleModel",
          "model_module_version": "1.5.0",
          "state": {
            "_model_module": "@jupyter-widgets/controls",
            "_model_module_version": "1.5.0",
            "_model_name": "DescriptionStyleModel",
            "_view_count": null,
            "_view_module": "@jupyter-widgets/base",
            "_view_module_version": "1.2.0",
            "_view_name": "StyleView",
            "description_width": ""
          }
        },
        "b510bbc18edb4d8fb7df3310c6b8f8cf": {
          "model_module": "@jupyter-widgets/controls",
          "model_name": "ButtonModel",
          "model_module_version": "1.5.0",
          "state": {
            "_dom_classes": [],
            "_model_module": "@jupyter-widgets/controls",
            "_model_module_version": "1.5.0",
            "_model_name": "ButtonModel",
            "_view_count": null,
            "_view_module": "@jupyter-widgets/controls",
            "_view_module_version": "1.5.0",
            "_view_name": "ButtonView",
            "button_style": "",
            "description": "Analyze",
            "disabled": false,
            "icon": "",
            "layout": "IPY_MODEL_f7b09fa50703455b9009fbaa0ebbd4bf",
            "style": "IPY_MODEL_15290be7f5cf4f698a6ca51c57c7b1a7",
            "tooltip": ""
          }
        },
        "f7b09fa50703455b9009fbaa0ebbd4bf": {
          "model_module": "@jupyter-widgets/base",
          "model_name": "LayoutModel",
          "model_module_version": "1.2.0",
          "state": {
            "_model_module": "@jupyter-widgets/base",
            "_model_module_version": "1.2.0",
            "_model_name": "LayoutModel",
            "_view_count": null,
            "_view_module": "@jupyter-widgets/base",
            "_view_module_version": "1.2.0",
            "_view_name": "LayoutView",
            "align_content": null,
            "align_items": null,
            "align_self": null,
            "border": null,
            "bottom": null,
            "display": null,
            "flex": null,
            "flex_flow": null,
            "grid_area": null,
            "grid_auto_columns": null,
            "grid_auto_flow": null,
            "grid_auto_rows": null,
            "grid_column": null,
            "grid_gap": null,
            "grid_row": null,
            "grid_template_areas": null,
            "grid_template_columns": null,
            "grid_template_rows": null,
            "height": null,
            "justify_content": null,
            "justify_items": null,
            "left": null,
            "margin": null,
            "max_height": null,
            "max_width": null,
            "min_height": null,
            "min_width": null,
            "object_fit": null,
            "object_position": null,
            "order": null,
            "overflow": null,
            "overflow_x": null,
            "overflow_y": null,
            "padding": null,
            "right": null,
            "top": null,
            "visibility": null,
            "width": null
          }
        },
        "15290be7f5cf4f698a6ca51c57c7b1a7": {
          "model_module": "@jupyter-widgets/controls",
          "model_name": "ButtonStyleModel",
          "model_module_version": "1.5.0",
          "state": {
            "_model_module": "@jupyter-widgets/controls",
            "_model_module_version": "1.5.0",
            "_model_name": "ButtonStyleModel",
            "_view_count": null,
            "_view_module": "@jupyter-widgets/base",
            "_view_module_version": "1.2.0",
            "_view_name": "StyleView",
            "button_color": null,
            "font_weight": ""
          }
        },
        "90c577da951a42d69126d28f8e8806ee": {
          "model_module": "@jupyter-widgets/output",
          "model_name": "OutputModel",
          "model_module_version": "1.0.0",
          "state": {
            "_dom_classes": [],
            "_model_module": "@jupyter-widgets/output",
            "_model_module_version": "1.0.0",
            "_model_name": "OutputModel",
            "_view_count": null,
            "_view_module": "@jupyter-widgets/output",
            "_view_module_version": "1.0.0",
            "_view_name": "OutputView",
            "layout": "IPY_MODEL_a7d1313ae2c54b21b73feca5671a7e28",
            "msg_id": "",
            "outputs": [
              {
                "output_type": "display_data",
                "data": {
                  "text/plain": "<IPython.core.display.Markdown object>",
                  "text/markdown": "\n**User Input:** I do not fast for Ramadan because I am not Muslim.\n\n**Anti-Arab Hate Speech?:** ✅ No (Confidence: 0.97)\n"
                },
                "metadata": {}
              }
            ]
          }
        },
        "a7d1313ae2c54b21b73feca5671a7e28": {
          "model_module": "@jupyter-widgets/base",
          "model_name": "LayoutModel",
          "model_module_version": "1.2.0",
          "state": {
            "_model_module": "@jupyter-widgets/base",
            "_model_module_version": "1.2.0",
            "_model_name": "LayoutModel",
            "_view_count": null,
            "_view_module": "@jupyter-widgets/base",
            "_view_module_version": "1.2.0",
            "_view_name": "LayoutView",
            "align_content": null,
            "align_items": null,
            "align_self": null,
            "border": null,
            "bottom": null,
            "display": null,
            "flex": null,
            "flex_flow": null,
            "grid_area": null,
            "grid_auto_columns": null,
            "grid_auto_flow": null,
            "grid_auto_rows": null,
            "grid_column": null,
            "grid_gap": null,
            "grid_row": null,
            "grid_template_areas": null,
            "grid_template_columns": null,
            "grid_template_rows": null,
            "height": null,
            "justify_content": null,
            "justify_items": null,
            "left": null,
            "margin": null,
            "max_height": null,
            "max_width": null,
            "min_height": null,
            "min_width": null,
            "object_fit": null,
            "object_position": null,
            "order": null,
            "overflow": null,
            "overflow_x": null,
            "overflow_y": null,
            "padding": null,
            "right": null,
            "top": null,
            "visibility": null,
            "width": null
          }
        }
      }
    }
  },
  "nbformat": 4,
  "nbformat_minor": 0
}